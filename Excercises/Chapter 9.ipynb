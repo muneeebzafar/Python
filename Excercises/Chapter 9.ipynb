{
 "cells": [
  {
   "cell_type": "markdown",
   "metadata": {},
   "source": [
    "# Exercises"
   ]
  },
  {
   "attachments": {
    "image.png": {
     "image/png": "[encoded data removed]"
    }
   },
   "cell_type": "markdown",
   "metadata": {},
   "source": [
    "## Excercise 1 : \n",
    "Revise a previous program as follows: Read and parse the “`From `” lines and pull out the addresses from the line. Count the number of messages from each person using a dictionary.\n",
    "\n",
    "After all the data has been read, print the person with the most commits by creating a list of (count, email) tuples from the dictionary. Then sort the list in reverse order and print out the person who has the most commits.\n",
    "\n",
    "![image.png](attachment:image.png)"
   ]
  },
  {
   "cell_type": "code",
   "execution_count": 4,
   "metadata": {},
   "outputs": [
    {
     "name": "stdout",
     "output_type": "stream",
     "text": [
      "195 zqian@umich.edu\n",
      "161 mmmay@indiana.edu\n",
      "158 cwen@iupui.edu\n",
      "111 chmaurer@iupui.edu\n",
      "110 aaronz@vt.edu\n",
      "96 ian@caret.cam.ac.uk\n",
      "93 jimeng@umich.edu\n",
      "90 rjlowe@iupui.edu\n",
      "84 dlhaines@umich.edu\n",
      "67 david.horwitz@uct.ac.za\n",
      "48 ajpoland@iupui.edu\n",
      "44 wagnermr@iupui.edu\n",
      "44 gjthomas@iupui.edu\n",
      "43 sgithens@caret.cam.ac.uk\n",
      "32 ray@media.berkeley.edu\n",
      "29 stephen.marquard@uct.ac.za\n",
      "28 nuno@ufp.pt\n",
      "28 josrodri@iupui.edu\n",
      "28 gsilver@umich.edu\n",
      "27 bkirschn@umich.edu\n",
      "27 arwhyte@umich.edu\n",
      "25 gopal.ramasammycook@gmail.com\n",
      "24 louis@media.berkeley.edu\n",
      "19 csev@umich.edu\n",
      "18 antranig@caret.cam.ac.uk\n",
      "17 zach.thomas@txstate.edu\n",
      "17 stuart.freeman@et.gatech.edu\n",
      "17 ostermmg@whitman.edu\n",
      "14 kimsooil@bu.edu\n",
      "14 a.fish@lancaster.ac.uk\n",
      "12 ktsao@stanford.edu\n",
      "9 mbreuker@loi.nl\n",
      "9 jzaremba@unicon.net\n",
      "8 lance@indiana.edu\n",
      "8 john.ellis@rsmart.com\n",
      "8 ggolden@umich.edu\n",
      "7 hu2@iupui.edu\n",
      "6 tnguyen@iupui.edu\n",
      "5 ssmail@indiana.edu\n",
      "5 knoop@umich.edu\n",
      "4 bahollad@indiana.edu\n",
      "3 gbhatnag@umich.edu\n",
      "2 jleasia@umich.edu\n",
      "1 thoppaymallika@fhda.edu\n",
      "1 jlrenfro@ucdavis.edu\n",
      "1 colin.clark@utoronto.ca\n"
     ]
    }
   ],
   "source": [
    "# path = \"../Text Files/mbox-short.txt\"\n",
    "path = \"../Text Files/mbox.txt\"\n",
    "\n",
    "file = open(path)\n",
    "mails = dict()\n",
    "\n",
    "for line in file:\n",
    "    if not line.startswith(\"From \"):\n",
    "        continue\n",
    "    else:\n",
    "        line = line.split()\n",
    "        mail = line[1]\n",
    "        mails[mail] = mails.get(mail, 0) + 1\n",
    "\n",
    "file.close()\n",
    "\n",
    "# Sort the mails by count\n",
    "lst = list()\n",
    "for key, val in list(mails.items()):\n",
    "    lst.append((val, key))\n",
    "\n",
    "lst.sort(reverse=True)\n",
    "\n",
    "for key, val in lst:\n",
    "    print(key, val)\n",
    "\n"
   ]
  },
  {
   "attachments": {},
   "cell_type": "markdown",
   "metadata": {},
   "source": [
    "## Excercise 2 : \n",
    "This program counts the distribution of the hour of the day for each of the messages. You can pull the hour from the “`From`” line by finding the time string and then splitting that string into parts using the colon character. \n",
    "\n",
    "Once you have accumulated the counts for each hour, print out the counts, one per line, sorted by hour as shown below.\n",
    "\n",
    "\n",
    "\n"
   ]
  },
  {
   "cell_type": "code",
   "execution_count": 16,
   "metadata": {},
   "outputs": [
    {
     "name": "stdout",
     "output_type": "stream",
     "text": [
      "04 3\n",
      "06 1\n",
      "07 1\n",
      "09 2\n",
      "10 3\n",
      "11 6\n",
      "14 1\n",
      "15 2\n",
      "16 4\n",
      "17 2\n",
      "18 1\n",
      "19 1\n"
     ]
    }
   ],
   "source": [
    "path = \"../Text Files/mbox-short.txt\"\n",
    "file = open(path)\n",
    "hours_count = dict()\n",
    "\n",
    "for line in file:\n",
    "    if not line.startswith(\"From \"):\n",
    "        continue\n",
    "    else:\n",
    "        line = line.split()\n",
    "        time = line[5].split(':')\n",
    "        # print(time)\n",
    "        hour = time[0]\n",
    "        hours_count[hour] = hours_count.get(hour, 0) + 1\n",
    "\n",
    "file.close()\n",
    "# print(hours_count)\n",
    "\n",
    "lst = list()\n",
    "for key, value in hours_count.items():\n",
    "    lst.append((key, value))\n",
    "\n",
    "lst.sort()\n",
    "for hour, count in lst:\n",
    "    print(hour, count)\n",
    "\n"
   ]
  }
 ],
 "metadata": {
  "kernelspec": {
   "display_name": "base",
   "language": "python",
   "name": "python3"
  },
  "language_info": {
   "codemirror_mode": {
    "name": "ipython",
    "version": 3
   },
   "file_extension": ".py",
   "mimetype": "text/x-python",
   "name": "python",
   "nbconvert_exporter": "python",
   "pygments_lexer": "ipython3",
   "version": "3.9.13"
  },
  "orig_nbformat": 4
 },
 "nbformat": 4,
 "nbformat_minor": 2
}
