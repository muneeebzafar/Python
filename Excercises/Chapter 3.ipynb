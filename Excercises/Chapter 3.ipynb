{
 "cells": [
  {
   "cell_type": "markdown",
   "metadata": {},
   "source": [
    "# Exercises"
   ]
  },
  {
   "attachments": {
    "image.png": {
     "image/png": "[encoded data removed]"
    }
   },
   "cell_type": "markdown",
   "metadata": {},
   "source": [
    "## Excercise 1 : \n",
    "\n",
    "#####  Rewrite your pay computation with time-and-a-half for overtime and create a function called `computepay` which takes two parameters (`hours` and `rate`).\n",
    "![image.png](attachment:image.png)"
   ]
  },
  {
   "cell_type": "code",
   "execution_count": 23,
   "metadata": {},
   "outputs": [
    {
     "name": "stdout",
     "output_type": "stream",
     "text": [
      "Pay :  475.0\n"
     ]
    }
   ],
   "source": [
    "def computepay(hours, rate):\n",
    "    return (1.5*(hours - 40) + 40)*rate if hours > 40 else hours * rate\n",
    "\n",
    "hours = int(input('Enter Hours : '))\n",
    "rate = float(input('Enter Rate : '))\n",
    "\n",
    "print('Pay : ',computepay(hours,rate))\n"
   ]
  },
  {
   "attachments": {
    "image.png": {
     "image/png": "[encoded data removed]"
    }
   },
   "cell_type": "markdown",
   "metadata": {},
   "source": [
    "## Excercise 2 : \n",
    "\n",
    "##### Rewrite the grade program from the previous chapter using a function called `computegrade` that takes a score as its parameter and returns a grade as a string.\n",
    "\n",
    "![image.png](attachment:image.png)"
   ]
  },
  {
   "cell_type": "code",
   "execution_count": 28,
   "metadata": {},
   "outputs": [
    {
     "name": "stdout",
     "output_type": "stream",
     "text": [
      "score: 0.8 | grade : B\n"
     ]
    }
   ],
   "source": [
    "def computegrade(score):\n",
    "    if 0.0<=score<=1.0:\n",
    "        if score>=0.9:\n",
    "            return \"A\"\n",
    "        elif score>=0.8:\n",
    "            return \"B\"\n",
    "        elif score>=0.7:\n",
    "            return \"C\"\n",
    "        elif score>=0.6:\n",
    "            return \"D\"\n",
    "        else:\n",
    "            return \"F\"\n",
    "    else:\n",
    "        return 'Bad score'\n",
    "    \n",
    "score = float(input('Enter score between 0.0 and 1.0: '))\n",
    "print(f\"score: {score} | grade : {computegrade(score)}\", )"
   ]
  }
 ],
 "metadata": {
  "kernelspec": {
   "display_name": "base",
   "language": "python",
   "name": "python3"
  },
  "language_info": {
   "codemirror_mode": {
    "name": "ipython",
    "version": 3
   },
   "file_extension": ".py",
   "mimetype": "text/x-python",
   "name": "python",
   "nbconvert_exporter": "python",
   "pygments_lexer": "ipython3",
   "version": "3.9.13"
  },
  "orig_nbformat": 4
 },
 "nbformat": 4,
 "nbformat_minor": 2
}
