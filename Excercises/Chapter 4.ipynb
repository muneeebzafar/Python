{
 "cells": [
  {
   "cell_type": "markdown",
   "metadata": {},
   "source": [
    "# Exercises"
   ]
  },
  {
   "attachments": {
    "image.png": {
     "image/png": "[encoded data removed]"
    }
   },
   "cell_type": "markdown",
   "metadata": {},
   "source": [
    "## Excercise 1 : \n",
    "\n",
    "##### Write a program which repeatedly reads numbers until the user enters “done”. Once “done” is entered, print out the total, count, and average of the numbers. If the user enters anything other than a number, detect their mistake using `try` and `except` and print an error message and skip to the next number.\n",
    "\n",
    "![image.png](attachment:image.png)"
   ]
  },
  {
   "cell_type": "code",
   "execution_count": 12,
   "metadata": {},
   "outputs": [
    {
     "name": "stdout",
     "output_type": "stream",
     "text": [
      "\n",
      "\n",
      "    total = 433.0  \n",
      "    count = 3  \n",
      "    average = 144.33\n"
     ]
    }
   ],
   "source": [
    "command = ''\n",
    "sum = 0\n",
    "count = 0\n",
    "while command.lower() != 'done':\n",
    "    command = input('Enter a number: ')\n",
    "    try:\n",
    "        sum += float(command)\n",
    "        count += 1\n",
    "    except ValueError:\n",
    "        if command.lower() == 'done':\n",
    "            print()\n",
    "        else:    \n",
    "            print('Enter a numeric value')\n",
    "        continue\n",
    "\n",
    "if count == 0:\n",
    "    print('Nill')\n",
    "else:\n",
    "    print(f\"\"\"\n",
    "    total = {sum}  \n",
    "    count = {count}  \n",
    "    average = {round(sum/count, 2)}\"\"\")    "
   ]
  },
  {
   "attachments": {},
   "cell_type": "markdown",
   "metadata": {},
   "source": [
    "## Excercise 2 : \n",
    "\n",
    "#####  Write another program that prompts for a list of numbers as above and at the end prints out both the maximum and minimum of the numbers instead of the average."
   ]
  },
  {
   "cell_type": "code",
   "execution_count": 11,
   "metadata": {},
   "outputs": [
    {
     "name": "stdout",
     "output_type": "stream",
     "text": [
      "\n",
      "\n",
      "    total = 41  \n",
      "    count = 3  \n",
      "    maximum number = 15\n",
      "    minimum number = 12\n",
      "    \n"
     ]
    }
   ],
   "source": [
    "command = ''\n",
    "sum = 0\n",
    "min = 999999999999999\n",
    "max = 0\n",
    "count = 0\n",
    "while command.lower() != 'done':\n",
    "    command = input('Enter a number: ')\n",
    "    try:\n",
    "        number = int(command) \n",
    "        sum += number\n",
    "        count += 1\n",
    "        if min > number:\n",
    "            min = number\n",
    "        if max < number:\n",
    "            max = number\n",
    "    except ValueError:\n",
    "        if command.lower() == 'done':\n",
    "            print()\n",
    "        else:    \n",
    "            print('Enter a numeric value')\n",
    "        continue\n",
    "\n",
    "if count == 0:\n",
    "    print('Nill')\n",
    "else:\n",
    "    print(f\"\"\"\n",
    "    total = {sum}  \n",
    "    count = {count}  \n",
    "    maximum number = {max}\n",
    "    minimum number = {min}\n",
    "    \"\"\")  \n"
   ]
  }
 ],
 "metadata": {
  "kernelspec": {
   "display_name": "base",
   "language": "python",
   "name": "python3"
  },
  "language_info": {
   "codemirror_mode": {
    "name": "ipython",
    "version": 3
   },
   "file_extension": ".py",
   "mimetype": "text/x-python",
   "name": "python",
   "nbconvert_exporter": "python",
   "pygments_lexer": "ipython3",
   "version": "3.9.13"
  },
  "orig_nbformat": 4
 },
 "nbformat": 4,
 "nbformat_minor": 2
}
