{
 "cells": [
  {
   "attachments": {},
   "cell_type": "markdown",
   "metadata": {},
   "source": [
    "# Exercises"
   ]
  },
  {
   "attachments": {
    "image-2.png": {
     "image/png": "[encoded data removed]"
    }
   },
   "cell_type": "markdown",
   "metadata": {},
   "source": [
    "## Excercise 1 : \n",
    "\n",
    "##### Write a program that uses `input` to prompt a user for their name and then welcomes them, like\n",
    " ![image.png](attachment:image-2.png)"
   ]
  },
  {
   "cell_type": "code",
   "execution_count": 1,
   "metadata": {},
   "outputs": [
    {
     "name": "stdout",
     "output_type": "stream",
     "text": [
      "Hello Muneeb\n"
     ]
    }
   ],
   "source": [
    "name = input('Enter your name: ')\n",
    "print(\"Hello\", name)"
   ]
  },
  {
   "attachments": {
    "image.png": {
     "image/png": "[encoded data removed]"
    }
   },
   "cell_type": "markdown",
   "metadata": {},
   "source": [
    "## Excercise 2 : \n",
    "\n",
    "##### Write a program to prompt the user for hours and rate per hour to compute gross pay.\n",
    "\n",
    "![image.png](attachment:image.png)"
   ]
  },
  {
   "cell_type": "code",
   "execution_count": 3,
   "metadata": {},
   "outputs": [
    {
     "name": "stdout",
     "output_type": "stream",
     "text": [
      "Pay :  96.25\n"
     ]
    }
   ],
   "source": [
    "hours = int(input('Enter Hours : '))\n",
    "rate = float(input('Enter Rate : '))\n",
    "pay = rate * hours\n",
    "\n",
    "print('Pay : ',pay)"
   ]
  },
  {
   "attachments": {
    "image.png": {
     "image/png": "[encoded data removed]"
    }
   },
   "cell_type": "markdown",
   "metadata": {},
   "source": [
    "## Excercise 3 : \n",
    "\n",
    "##### Assume that we execute the following assignment statements:\n",
    "\n",
    "![image.png](attachment:image.png)\n",
    "\n",
    "For each of the following expressions, write the value of the expression and the type (of the value of the expression).\n",
    "\n",
    "1. `width//2`\n",
    "2. `width/2.0`\n",
    "3. `height/3`\n",
    "4. `1 + 2 * 5`\n"
   ]
  },
  {
   "cell_type": "code",
   "execution_count": 12,
   "metadata": {},
   "outputs": [
    {
     "name": "stdout",
     "output_type": "stream",
     "text": [
      "width//2 = 8\n",
      "Data Type : <class 'int'> \n",
      "\n",
      "width/2.0 = 8.5\n",
      "Data Type : <class 'float'> \n",
      "\n",
      "height/3 = 4.0\n",
      "Data Type : <class 'float'> \n",
      "\n",
      "1 + 2 * 5 = 11\n",
      "Data Type : <class 'int'> \n",
      "\n"
     ]
    }
   ],
   "source": [
    "width = 17\n",
    "height = 12.0\n",
    "\n",
    "# width//2\n",
    "print(f\"width//2 = {width//2}\")\n",
    "print(f\"Data Type : {type(width//2)} \\n\")\n",
    "\n",
    "# width/2.0\n",
    "print(f\"width/2.0 = {width/2.0}\")\n",
    "print(f\"Data Type : {type(width/2.0)} \\n\")\n",
    "\n",
    "# height/3\n",
    "print(f\"height/3 = {height/3}\")\n",
    "print(f\"Data Type : {type(height/3)} \\n\")\n",
    "\n",
    "# 1 + 2 * 5\n",
    "print(f\"1 + 2 * 5 = {1 + 2 * 5}\")\n",
    "print(f\"Data Type : {type(1 + 2 * 5)} \\n\")\n",
    "\n"
   ]
  },
  {
   "attachments": {},
   "cell_type": "markdown",
   "metadata": {},
   "source": [
    "## Excercise 4 : \n",
    "\n",
    "##### Write a program which prompts the user for a Celsius temperature, convert the temperature to Fahrenheit, and print out the converted temperature."
   ]
  },
  {
   "cell_type": "code",
   "execution_count": 13,
   "metadata": {},
   "outputs": [
    {
     "name": "stdout",
     "output_type": "stream",
     "text": [
      "Temperature in Fahrenheit : 77.0\n"
     ]
    }
   ],
   "source": [
    "temperature_in_celsius = float(input('Enter the Temperature in Celsius : '))\n",
    "\n",
    "temperature_in_fahrenheit = temperature_in_celsius * (9/5) + 32\n",
    "\n",
    "print(f\"Temperature in Fahrenheit : {temperature_in_fahrenheit}\")"
   ]
  }
 ],
 "metadata": {
  "kernelspec": {
   "display_name": "base",
   "language": "python",
   "name": "python3"
  },
  "language_info": {
   "codemirror_mode": {
    "name": "ipython",
    "version": 3
   },
   "file_extension": ".py",
   "mimetype": "text/x-python",
   "name": "python",
   "nbconvert_exporter": "python",
   "pygments_lexer": "ipython3",
   "version": "3.9.13"
  },
  "orig_nbformat": 4
 },
 "nbformat": 4,
 "nbformat_minor": 2
}
