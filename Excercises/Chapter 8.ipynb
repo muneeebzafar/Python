{
 "cells": [
  {
   "cell_type": "markdown",
   "metadata": {},
   "source": [
    "# Exercises"
   ]
  },
  {
   "attachments": {},
   "cell_type": "markdown",
   "metadata": {},
   "source": [
    "## Excercise 1 : \n",
    "Write a program that categorizes each mail message by which day of the week the commit was done. To do this look for lines that start with “`From`”, then look for the third word and keep a running count of each of the days of the week. At the end of the program print out the contents of your dictionary (order does not matter).\n"
   ]
  },
  {
   "cell_type": "code",
   "execution_count": 24,
   "metadata": {},
   "outputs": [
    {
     "name": "stdout",
     "output_type": "stream",
     "text": [
      "{'Sat': 1, 'Fri': 20, 'Thu': 6}\n"
     ]
    }
   ],
   "source": [
    "path = \"../Text Files/mbox-short.txt\"\n",
    "file = open(path)\n",
    "mails_per_day = dict()\n",
    "\n",
    "for line in file:\n",
    "    if not line.startswith(\"From \"):\n",
    "        continue\n",
    "    else:\n",
    "        line = line.split()\n",
    "        day = line[2]\n",
    "        # print(line)\n",
    "        mails_per_day[day] = mails_per_day.get(day, 0) + 1\n",
    "\n",
    "file.close()\n",
    "print(mails_per_day)\n",
    "\n"
   ]
  },
  {
   "attachments": {
    "image.png": {
     "image/png": "[encoded data removed]"
    }
   },
   "cell_type": "markdown",
   "metadata": {},
   "source": [
    "## Excercise 2 : \n",
    "Write a program to read through a mail log, use a dictionary to count how many messages have come from each email address, and print the dictionary.\n",
    "\n",
    "![image.png](attachment:image.png)\n",
    "\n"
   ]
  },
  {
   "cell_type": "code",
   "execution_count": 28,
   "metadata": {},
   "outputs": [
    {
     "name": "stdout",
     "output_type": "stream",
     "text": [
      "{'stephen.marquard@uct.ac.za': 2, 'louis@media.berkeley.edu': 3, 'zqian@umich.edu': 4, 'rjlowe@iupui.edu': 2, 'cwen@iupui.edu': 5, 'gsilver@umich.edu': 3, 'wagnermr@iupui.edu': 1, 'antranig@caret.cam.ac.uk': 1, 'gopal.ramasammycook@gmail.com': 1, 'david.horwitz@uct.ac.za': 4, 'ray@media.berkeley.edu': 1}\n"
     ]
    }
   ],
   "source": [
    "path = \"../Text Files/mbox-short.txt\"\n",
    "file = open(path)\n",
    "mails = dict()\n",
    "\n",
    "for line in file:\n",
    "    if not line.startswith(\"From \"):\n",
    "        continue\n",
    "    else:\n",
    "        line = line.split()\n",
    "        mail = line[1]\n",
    "        mails[mail] = mails.get(mail, 0) + 1\n",
    "\n",
    "file.close()\n",
    "print(mails)\n",
    "\n"
   ]
  },
  {
   "attachments": {},
   "cell_type": "markdown",
   "metadata": {},
   "source": [
    "## Excercise 3 :\n",
    "Add code to the above program to figure out who has the most messages in the file. After all the data has been read and the dictionary has been created, look through the dictionary using a maximum loop (see Chapter 5: Maximum and minimum loops) to find who has the most messages and print how many messages the person has."
   ]
  },
  {
   "cell_type": "code",
   "execution_count": 30,
   "metadata": {},
   "outputs": [
    {
     "name": "stdout",
     "output_type": "stream",
     "text": [
      "zqian@umich.edu 195\n"
     ]
    }
   ],
   "source": [
    "path = input('Enter the file name: ')\n",
    "try:\n",
    "    file = open(path)\n",
    "    mails = dict()\n",
    "\n",
    "    for line in file:\n",
    "        if not line.startswith(\"From \"):\n",
    "            continue\n",
    "        else:\n",
    "            line = line.split()\n",
    "            mail = line[1]\n",
    "            mails[mail] = mails.get(mail, 0) + 1\n",
    "\n",
    "    file.close()\n",
    "    print(max(mails.keys()), max(mails.values()))\n",
    "\n",
    "except:\n",
    "    print('File cannot be opened:', path)\n"
   ]
  },
  {
   "attachments": {
    "image-2.png": {
     "image/png": "[encoded data removed]"
    }
   },
   "cell_type": "markdown",
   "metadata": {},
   "source": [
    "## Excercise 4 : \n",
    "This program records the domain name (instead of the address) where the message was sent from instead of who the mail came from (i.e., the whole email address). At the end of the program, print out the contents of your dictionary.\n",
    "\n",
    "![image.png](attachment:image-2.png)\n"
   ]
  },
  {
   "cell_type": "code",
   "execution_count": 32,
   "metadata": {},
   "outputs": [
    {
     "name": "stdout",
     "output_type": "stream",
     "text": [
      "{'uct.ac.za': 96, 'media.berkeley.edu': 56, 'umich.edu': 491, 'iupui.edu': 536, 'caret.cam.ac.uk': 157, 'gmail.com': 25, 'indiana.edu': 178, 'et.gatech.edu': 17, 'vt.edu': 110, 'lancaster.ac.uk': 14, 'ucdavis.edu': 1, 'ufp.pt': 28, 'txstate.edu': 17, 'stanford.edu': 12, 'whitman.edu': 17, 'rsmart.com': 8, 'fhda.edu': 1, 'bu.edu': 14, 'unicon.net': 9, 'loi.nl': 9, 'utoronto.ca': 1}\n"
     ]
    }
   ],
   "source": [
    "path = input('Enter the file name: ')\n",
    "try:\n",
    "    file = open(path)\n",
    "    mails = dict()\n",
    "\n",
    "    for line in file:\n",
    "        if not line.startswith(\"From \"):\n",
    "            continue\n",
    "        else:\n",
    "            line = line.split()\n",
    "            mail = line[1]\n",
    "            domain = mail.split('@')[1]\n",
    "            mails[domain] = mails.get(domain, 0) + 1\n",
    "\n",
    "    file.close()\n",
    "    print(mails)\n",
    "\n",
    "except:\n",
    "    print('File cannot be opened:', path)\n",
    "\n",
    "    "
   ]
  }
 ],
 "metadata": {
  "kernelspec": {
   "display_name": "base",
   "language": "python",
   "name": "python3"
  },
  "language_info": {
   "codemirror_mode": {
    "name": "ipython",
    "version": 3
   },
   "file_extension": ".py",
   "mimetype": "text/x-python",
   "name": "python",
   "nbconvert_exporter": "python",
   "pygments_lexer": "ipython3",
   "version": "3.9.13"
  },
  "orig_nbformat": 4
 },
 "nbformat": 4,
 "nbformat_minor": 2
}
