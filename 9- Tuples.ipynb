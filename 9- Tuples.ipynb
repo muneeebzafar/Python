{
 "cells": [
  {
   "attachments": {},
   "cell_type": "markdown",
   "metadata": {},
   "source": [
    "<!-- @format -->\n",
    "\n",
    "# Tuples\n",
    "\n",
    "Tuple is a read-only list. We can use it to contain a sequence of objects, but it cannot be modified. In other words `it is immutable`.\n",
    "\n",
    "Syntactically, a tuple is a comma-separated list of values:\n"
   ]
  },
  {
   "cell_type": "code",
   "execution_count": 2,
   "metadata": {},
   "outputs": [
    {
     "name": "stdout",
     "output_type": "stream",
     "text": [
      "<class 'tuple'>\n"
     ]
    }
   ],
   "source": [
    "t = 'a', 'b', 'c', 'd', 'e'\n",
    "print(type(t))\n"
   ]
  },
  {
   "attachments": {},
   "cell_type": "markdown",
   "metadata": {},
   "source": [
    "<!-- @format -->\n",
    "\n",
    "Although it is not necessary, it is common to enclose tuples in parentheses to help us quickly identify tuples when we look at Python code:\n"
   ]
  },
  {
   "cell_type": "code",
   "execution_count": null,
   "metadata": {},
   "outputs": [],
   "source": [
    "t = ('a', 'b', 'c', 'd', 'e')\n"
   ]
  },
  {
   "attachments": {},
   "cell_type": "markdown",
   "metadata": {},
   "source": [
    "<!-- @format -->\n",
    "\n",
    "To create a tuple with a single element, you have to include the final comma:\n"
   ]
  },
  {
   "cell_type": "code",
   "execution_count": 3,
   "metadata": {},
   "outputs": [
    {
     "name": "stdout",
     "output_type": "stream",
     "text": [
      "<class 'tuple'>\n"
     ]
    }
   ],
   "source": [
    "t1 = ('a',)\n",
    "print(type(t1))\n"
   ]
  },
  {
   "attachments": {},
   "cell_type": "markdown",
   "metadata": {},
   "source": [
    "<!-- @format -->\n",
    "\n",
    "Without the comma Python treats ('a') as an expression with a string in parentheses that evaluates to a string:\n"
   ]
  },
  {
   "cell_type": "code",
   "execution_count": 4,
   "metadata": {},
   "outputs": [
    {
     "name": "stdout",
     "output_type": "stream",
     "text": [
      "<class 'str'>\n"
     ]
    }
   ],
   "source": [
    "t2 = ('a')\n",
    "print(type(t2))\n"
   ]
  },
  {
   "attachments": {},
   "cell_type": "markdown",
   "metadata": {},
   "source": [
    "<!-- @format -->\n",
    "\n",
    "Another way to construct a tuple is the built-in function `tuple`. With no argument, it creates an empty tuple:\n"
   ]
  },
  {
   "cell_type": "code",
   "execution_count": 5,
   "metadata": {},
   "outputs": [
    {
     "name": "stdout",
     "output_type": "stream",
     "text": [
      "()\n"
     ]
    }
   ],
   "source": [
    "t = tuple()\n",
    "print(t)\n"
   ]
  },
  {
   "attachments": {},
   "cell_type": "markdown",
   "metadata": {},
   "source": [
    "<!-- @format -->\n",
    "\n",
    "If the argument is a sequence (string, list, or tuple), the result of the call to `tuple` is a tuple with the elements of the sequence:\n"
   ]
  },
  {
   "cell_type": "code",
   "execution_count": 6,
   "metadata": {},
   "outputs": [
    {
     "name": "stdout",
     "output_type": "stream",
     "text": [
      "('l', 'u', 'p', 'i', 'n', 's')\n",
      "(1, 2, 3, 4)\n"
     ]
    }
   ],
   "source": [
    "t = tuple('lupins')\n",
    "print(t)\n",
    "\n",
    "t1 = tuple([1, 2, 3, 4])\n",
    "print(t1)\n"
   ]
  },
  {
   "attachments": {},
   "cell_type": "markdown",
   "metadata": {},
   "source": [
    "Most list operators also work on tuples. The bracket operator indexes an element:"
   ]
  },
  {
   "cell_type": "code",
   "execution_count": 7,
   "metadata": {},
   "outputs": [
    {
     "name": "stdout",
     "output_type": "stream",
     "text": [
      "a\n"
     ]
    }
   ],
   "source": [
    "t = ('a', 'b', 'c', 'd', 'e')\n",
    "print(t[0])"
   ]
  },
  {
   "attachments": {},
   "cell_type": "markdown",
   "metadata": {},
   "source": [
    "And the slice operator selects a range of elements."
   ]
  },
  {
   "cell_type": "code",
   "execution_count": 8,
   "metadata": {},
   "outputs": [
    {
     "name": "stdout",
     "output_type": "stream",
     "text": [
      "('b', 'c')\n"
     ]
    }
   ],
   "source": [
    "print(t[1:3])"
   ]
  },
  {
   "attachments": {},
   "cell_type": "markdown",
   "metadata": {},
   "source": [
    "But if you try to modify one of the elements of the tuple, you get an error:"
   ]
  },
  {
   "cell_type": "code",
   "execution_count": 9,
   "metadata": {},
   "outputs": [
    {
     "ename": "TypeError",
     "evalue": "'tuple' object does not support item assignment",
     "output_type": "error",
     "traceback": [
      "\u001b[1;31m---------------------------------------------------------------------------\u001b[0m",
      "\u001b[1;31mTypeError\u001b[0m                                 Traceback (most recent call last)",
      "\u001b[1;32m~\\AppData\\Local\\Temp\\ipykernel_17396\\3054271853.py\u001b[0m in \u001b[0;36m<module>\u001b[1;34m\u001b[0m\n\u001b[1;32m----> 1\u001b[1;33m \u001b[0mt\u001b[0m\u001b[1;33m[\u001b[0m\u001b[1;36m0\u001b[0m\u001b[1;33m]\u001b[0m \u001b[1;33m=\u001b[0m \u001b[1;34m'A'\u001b[0m\u001b[1;33m\u001b[0m\u001b[1;33m\u001b[0m\u001b[0m\n\u001b[0m",
      "\u001b[1;31mTypeError\u001b[0m: 'tuple' object does not support item assignment"
     ]
    }
   ],
   "source": [
    "t[0] = 'A'"
   ]
  },
  {
   "attachments": {},
   "cell_type": "markdown",
   "metadata": {},
   "source": [
    "## Tuple Assignment\n",
    "One of the unique syntactic features of the Python language is the ability to have a tuple on the left side of an assignment statement. This allows you to assign more than one variable at a time when the left side is a sequence.\n",
    "\n",
    "In this example we have a two-element list (which is a sequence) and assign the first and second elements of the sequence to the variables `x` and `y` in a single statement."
   ]
  },
  {
   "cell_type": "code",
   "execution_count": 10,
   "metadata": {},
   "outputs": [
    {
     "name": "stdout",
     "output_type": "stream",
     "text": [
      "have\n",
      "fun\n"
     ]
    }
   ],
   "source": [
    "m = [ 'have', 'fun' ]\n",
    "x, y = m\n",
    "print(x)\n",
    "print(y)\n"
   ]
  },
  {
   "attachments": {},
   "cell_type": "markdown",
   "metadata": {},
   "source": [
    "Stylistically when we use a tuple on the left side of the assignment statement, we omit the parentheses, but the following is an equally valid syntax:"
   ]
  },
  {
   "cell_type": "code",
   "execution_count": 11,
   "metadata": {},
   "outputs": [
    {
     "name": "stdout",
     "output_type": "stream",
     "text": [
      "have\n",
      "fun\n"
     ]
    }
   ],
   "source": [
    "m = [ 'have', 'fun' ]\n",
    "(x, y) = m\n",
    "print(x)\n",
    "print(y)"
   ]
  },
  {
   "attachments": {},
   "cell_type": "markdown",
   "metadata": {},
   "source": [
    "### Swapping Variables\n",
    "A particularly clever application of tuple assignment allows us to *`swap`* the values of two variables in a single statement:"
   ]
  },
  {
   "cell_type": "code",
   "execution_count": 12,
   "metadata": {},
   "outputs": [
    {
     "name": "stdout",
     "output_type": "stream",
     "text": [
      "20\n",
      "10\n"
     ]
    }
   ],
   "source": [
    "x = 10\n",
    "y = 20\n",
    "\n",
    "x, y = y, x\n",
    "print(x)\n",
    "print(y)\n"
   ]
  },
  {
   "attachments": {},
   "cell_type": "markdown",
   "metadata": {},
   "source": [
    "Both sides of this statement are tuples, but the left side is a *tuple of variables*; the right side is a *tuple of expressions*. Each value on the right side is assigned to its respective variable on the left side. All the expressions on the right side are evaluated before any of the assignments.\n",
    "\n",
    "The number of variables on the left and the number of values on the right must be the same:"
   ]
  },
  {
   "cell_type": "code",
   "execution_count": 13,
   "metadata": {},
   "outputs": [
    {
     "ename": "ValueError",
     "evalue": "too many values to unpack (expected 2)",
     "output_type": "error",
     "traceback": [
      "\u001b[1;31m---------------------------------------------------------------------------\u001b[0m",
      "\u001b[1;31mValueError\u001b[0m                                Traceback (most recent call last)",
      "\u001b[1;32m~\\AppData\\Local\\Temp\\ipykernel_17396\\1202805113.py\u001b[0m in \u001b[0;36m<module>\u001b[1;34m\u001b[0m\n\u001b[1;32m----> 1\u001b[1;33m \u001b[0ma\u001b[0m\u001b[1;33m,\u001b[0m \u001b[0mb\u001b[0m \u001b[1;33m=\u001b[0m \u001b[1;36m1\u001b[0m\u001b[1;33m,\u001b[0m \u001b[1;36m2\u001b[0m\u001b[1;33m,\u001b[0m \u001b[1;36m3\u001b[0m\u001b[1;33m\u001b[0m\u001b[1;33m\u001b[0m\u001b[0m\n\u001b[0m",
      "\u001b[1;31mValueError\u001b[0m: too many values to unpack (expected 2)"
     ]
    }
   ],
   "source": [
    "a, b = 1, 2, 3"
   ]
  },
  {
   "attachments": {},
   "cell_type": "markdown",
   "metadata": {},
   "source": [
    "More generally, the right side can be any kind of sequence (string, list, or tuple). For example, to split an email address into a user name and a domain, you could write:"
   ]
  },
  {
   "cell_type": "code",
   "execution_count": 14,
   "metadata": {},
   "outputs": [
    {
     "name": "stdout",
     "output_type": "stream",
     "text": [
      "monty\n",
      "python.org\n"
     ]
    }
   ],
   "source": [
    "email_address = 'monty@python.org'\n",
    "user_name, domain = email_address.split('@')\n",
    "\n",
    "print(user_name)\n",
    "print(domain)"
   ]
  },
  {
   "attachments": {},
   "cell_type": "markdown",
   "metadata": {},
   "source": [
    "## Dictionaries and Tuples\n",
    "Dictionaries have a method called `items` that returns a list of tuples, where each tuple is a key-value pair:"
   ]
  },
  {
   "cell_type": "code",
   "execution_count": 15,
   "metadata": {},
   "outputs": [
    {
     "name": "stdout",
     "output_type": "stream",
     "text": [
      "[('chuck', 1), ('annie', 42), ('jan', 100)]\n"
     ]
    }
   ],
   "source": [
    "counts = dict(chuck = 1, annie = 42, jan = 100)\n",
    "t =  list(counts.items())\n",
    "print(t)"
   ]
  },
  {
   "attachments": {},
   "cell_type": "markdown",
   "metadata": {},
   "source": [
    "### Sorting by Key\n",
    "However, since the list of tuples is a list, and tuples are comparable, we can now sort the list of tuples. Converting a dictionary to a list of tuples is a way for us to output the contents of a dictionary sorted by key:"
   ]
  },
  {
   "cell_type": "code",
   "execution_count": 16,
   "metadata": {},
   "outputs": [
    {
     "name": "stdout",
     "output_type": "stream",
     "text": [
      "[('chuck', 1), ('annie', 42), ('jan', 100)]\n",
      "[('annie', 42), ('chuck', 1), ('jan', 100)]\n"
     ]
    }
   ],
   "source": [
    "counts = dict(chuck = 1, annie = 42, jan = 100)\n",
    "t =  list(counts.items())\n",
    "print(t)\n",
    "\n",
    "t.sort()\n",
    "print(t)\n",
    "\n",
    "\n"
   ]
  },
  {
   "attachments": {},
   "cell_type": "markdown",
   "metadata": {},
   "source": [
    "The new list is sorted in ascending alphabetical order by the key value. \n",
    "\n",
    "Python starts by comparing the first element from each sequence. If they are equal, it goes on to the next element, and so on, until it finds elements that differ.\n",
    "\n",
    "### Sorting by Value\n",
    "\n",
    "We can print out the contents of a dictionary sorted by the `value` stored in each key-value pair.\n",
    "\n",
    "To do this, we first make a list of tuples where each tuple is `(value, key)`. The `items` method would give us a list of `(key, value)` tuples, but this time we want to sort by value, not key. Once we have constructed the list with the value-key tuples, it is a simple matter to sort the list in reverse order and print out the new, sorted list."
   ]
  },
  {
   "cell_type": "code",
   "execution_count": 17,
   "metadata": {},
   "outputs": [
    {
     "name": "stdout",
     "output_type": "stream",
     "text": [
      "[(100, 'jan'), (42, 'annie'), (1, 'chuck')]\n"
     ]
    }
   ],
   "source": [
    "counts = dict(chuck = 1, annie = 42, jan = 100)\n",
    "l = list()\n",
    "\n",
    "for key, value in counts.items():\n",
    "    l.append( (value, key) ) \n",
    "\n",
    "l.sort(reverse=True)\n",
    "print(l)"
   ]
  },
  {
   "attachments": {},
   "cell_type": "markdown",
   "metadata": {},
   "source": [
    "## The Most Common Words\n",
    "\n",
    "We can augment our program to use this technique to print the ten most common words in the text as follows:"
   ]
  },
  {
   "cell_type": "code",
   "execution_count": 20,
   "metadata": {},
   "outputs": [
    {
     "name": "stdout",
     "output_type": "stream",
     "text": [
      "{'romeo': 40, 'and': 42, 'juliet': 32, 'act': 1, '2': 2, 'scene': 2, 'ii': 1, 'capulets': 1, 'orchard': 2, 'enter': 1, 'he': 5, 'jests': 1, 'at': 9, 'scars': 1, 'that': 30, 'never': 2, 'felt': 1, 'a': 24, 'wound': 1, 'appears': 1, 'above': 6, 'window': 2, 'but': 18, 'soft': 1, 'what': 11, 'light': 5, 'through': 2, 'yonder': 2, 'breaks': 1, 'it': 22, 'is': 21, 'the': 34, 'east': 1, 'sun': 2, 'arise': 1, 'fair': 4, 'kill': 2, 'envious': 2, 'moon': 4, 'who': 5, 'already': 1, 'sick': 2, 'pale': 1, 'with': 8, 'grief': 2, 'thou': 32, 'her': 14, 'maid': 2, 'art': 7, 'far': 2, 'more': 9, 'than': 6, 'she': 9, 'be': 14, 'not': 18, 'since': 1, 'vestal': 1, 'livery': 1, 'green': 1, 'none': 1, 'fools': 1, 'do': 7, 'wear': 1, 'cast': 1, 'off': 1, 'my': 29, 'lady': 2, 'o': 11, 'love': 24, 'knew': 1, 'were': 9, 'speaks': 3, 'yet': 9, 'says': 1, 'nothing': 1, 'of': 20, 'eye': 2, 'discourses': 1, 'i': 61, 'will': 8, 'answer': 1, 'am': 7, 'too': 8, 'bold': 1, 'tis': 4, 'to': 34, 'me': 18, 'two': 1, 'fairest': 1, 'stars': 2, 'in': 13, 'all': 6, 'heaven': 3, 'having': 1, 'some': 3, 'business': 1, 'entreat': 1, 'eyes': 6, 'twinkle': 1, 'their': 6, 'spheres': 1, 'till': 4, 'they': 5, 'return': 1, 'if': 12, 'there': 3, 'head': 2, 'brightness': 1, 'cheek': 4, 'would': 16, 'shame': 1, 'those': 2, 'as': 12, 'daylight': 1, 'doth': 2, 'lamp': 1, 'airy': 2, 'region': 1, 'stream': 1, 'so': 10, 'bright': 2, 'birds': 1, 'sing': 1, 'think': 2, 'night': 16, 'see': 2, 'how': 5, 'leans': 1, 'upon': 5, 'hand': 4, 'glove': 1, 'might': 1, 'touch': 1, 'ay': 2, 'speak': 4, 'again': 6, 'angel': 1, 'for': 12, 'glorious': 1, 'this': 9, 'being': 2, 'oer': 1, 'winged': 1, 'messenger': 1, 'unto': 1, 'whiteupturned': 1, 'wondering': 1, 'mortals': 1, 'fall': 1, 'back': 4, 'gaze': 1, 'on': 4, 'him': 2, 'when': 2, 'bestrides': 1, 'lazypacing': 1, 'clouds': 1, 'sails': 1, 'bosom': 1, 'air': 1, 'wherefore': 2, 'deny': 2, 'thy': 20, 'father': 1, 'refuse': 1, 'name': 11, 'or': 4, 'wilt': 6, 'sworn': 1, 'ill': 8, 'no': 6, 'longer': 1, 'capulet': 1, 'aside': 1, 'shall': 6, 'hear': 2, 'enemy': 2, 'thyself': 1, 'though': 1, 'montague': 5, 'whats': 2, 'nor': 5, 'foot': 2, 'arm': 1, 'face': 2, 'any': 4, 'other': 4, 'part': 2, 'belonging': 1, 'man': 2, 'which': 7, 'we': 2, 'call': 3, 'rose': 1, 'by': 14, 'smell': 1, 'sweet': 8, 'calld': 1, 'retain': 1, 'dear': 7, 'perfection': 1, 'owes': 1, 'without': 1, 'title': 1, 'doff': 1, 'thee': 24, 'take': 3, 'myself': 2, 'word': 4, 'new': 1, 'baptized': 1, 'henceforth': 1, 'thus': 1, 'bescreend': 1, 'stumblest': 1, 'counsel': 2, 'know': 3, 'tell': 3, 'saint': 2, 'hateful': 1, 'because': 1, 'an': 2, 'had': 1, 'written': 1, 'tear': 2, 'ears': 2, 'have': 13, 'drunk': 1, 'hundred': 1, 'words': 2, 'tongues': 2, 'utterance': 1, 'sound': 2, 'neither': 1, 'either': 1, 'dislike': 1, 'camest': 1, 'hither': 1, 'walls': 2, 'are': 3, 'high': 1, 'hard': 1, 'climb': 1, 'place': 2, 'death': 2, 'considering': 1, 'kinsmen': 2, 'find': 2, 'here': 4, 'loves': 3, 'wings': 1, 'did': 3, 'oerperch': 1, 'these': 2, 'stony': 1, 'limits': 1, 'cannot': 1, 'hold': 1, 'out': 2, 'can': 2, 'dares': 1, 'attempt': 1, 'therefore': 3, 'let': 3, 'murder': 1, 'alack': 1, 'lies': 2, 'peril': 1, 'thine': 2, 'twenty': 2, 'swords': 1, 'look': 1, 'proof': 1, 'against': 1, 'enmity': 1, 'world': 3, 'saw': 1, 'nights': 1, 'cloak': 1, 'hide': 1, 'from': 4, 'sight': 1, 'them': 1, 'life': 1, 'better': 1, 'ended': 1, 'hate': 1, 'prorogued': 1, 'wanting': 1, 'whose': 1, 'direction': 1, 'foundst': 1, 'first': 1, 'prompt': 1, 'inquire': 1, 'lent': 2, 'pilot': 1, 'wert': 1, 'vast': 1, 'shore': 1, 'washd': 1, 'farthest': 1, 'sea': 2, 'adventure': 1, 'such': 2, 'merchandise': 1, 'knowst': 1, 'mask': 1, 'else': 3, 'maiden': 1, 'blush': 1, 'bepaint': 1, 'hast': 1, 'heard': 1, 'tonight': 3, 'fain': 3, 'dwell': 2, 'form': 1, 'spoke': 1, 'farewell': 1, 'compliment': 1, 'dost': 2, 'say': 5, 'swearst': 1, 'mayst': 2, 'prove': 4, 'false': 1, 'lovers': 2, 'perjuries': 1, 'then': 2, 'jove': 1, 'laughs': 1, 'gentle': 1, 'pronounce': 1, 'faithfully': 1, 'thinkst': 1, 'quickly': 1, 'won': 1, 'frown': 1, 'perverse': 1, 'nay': 1, 'woo': 1, 'truth': 1, 'fond': 1, 'havior': 1, 'trust': 1, 'gentleman': 1, 'true': 3, 'cunning': 1, 'strange': 2, 'should': 2, 'been': 1, 'must': 1, 'confess': 1, 'overheardst': 1, 'ere': 2, 'was': 1, 'ware': 1, 'passion': 1, 'pardon': 1, 'impute': 1, 'yielding': 1, 'dark': 1, 'hath': 1, 'discovered': 1, 'blessed': 3, 'swear': 6, 'tips': 1, 'silver': 1, 'fruittree': 1, 'tops': 1, 'inconstant': 1, 'monthly': 1, 'changes': 1, 'circled': 1, 'orb': 1, 'lest': 1, 'likewise': 1, 'variable': 1, 'gracious': 1, 'self': 1, 'god': 1, 'idolatry': 1, 'believe': 1, 'hearts': 1, 'well': 2, 'although': 1, 'joy': 2, 'contract': 1, 'rash': 1, 'unadvised': 1, 'sudden': 1, 'like': 3, 'lightning': 1, 'cease': 2, 'one': 2, 'lightens': 1, 'good': 9, 'bud': 1, 'summers': 1, 'ripening': 1, 'breath': 1, 'may': 2, 'beauteous': 1, 'flower': 1, 'next': 1, 'meet': 1, 'repose': 1, 'rest': 2, 'come': 5, 'heart': 1, 'within': 5, 'breast': 2, 'leave': 2, 'unsatisfied': 1, 'satisfaction': 1, 'canst': 1, 'exchange': 1, 'faithful': 1, 'vow': 1, 'mine': 3, 'gave': 1, 'before': 1, 'didst': 1, 'request': 1, 'give': 3, 'wouldst': 1, 'withdraw': 1, 'purpose': 2, 'frank': 1, 'wish': 1, 'thing': 1, 'bounty': 1, 'boundless': 1, 'deep': 1, 'both': 1, 'infinite': 1, 'nurse': 4, 'calls': 2, 'noise': 1, 'adieu': 1, 'anon': 1, 'stay': 2, 'little': 2, 'exit': 4, 'afeard': 1, 'dream': 1, 'flatteringsweet': 1, 'substantial': 1, 'reenter': 2, 'three': 1, 'indeed': 1, 'bent': 1, 'honourable': 1, 'marriage': 1, 'send': 3, 'tomorrow': 3, 'procure': 1, 'where': 2, 'time': 1, 'perform': 1, 'rite': 1, 'fortunes': 1, 'lay': 1, 'follow': 1, 'lord': 1, 'throughout': 1, 'madam': 2, 'anonbut': 1, 'meanst': 1, 'beseech': 1, 'suit': 1, 'thrive': 1, 'soul': 2, 'thousand': 2, 'times': 2, 'worse': 1, 'want': 1, 'goes': 1, 'toward': 2, 'schoolboys': 1, 'books': 1, 'school': 1, 'heavy': 1, 'looks': 1, 'retiring': 1, 'hist': 2, 'falconers': 1, 'voice': 1, 'lure': 1, 'tasselgentle': 1, 'bondage': 1, 'hoarse': 2, 'aloud': 1, 'cave': 1, 'echo': 1, 'make': 1, 'tongue': 1, 'repetition': 1, 'romeos': 1, 'silversweet': 1, 'softest': 1, 'music': 1, 'attending': 1, 'oclock': 1, 'hour': 1, 'nine': 1, 'fail': 1, 'years': 1, 'forgot': 1, 'why': 1, 'stand': 2, 'remember': 1, 'forget': 2, 'still': 3, 'remembering': 1, 'company': 1, 'forgetting': 1, 'home': 1, 'almost': 1, 'morning': 1, 'gone': 1, 'further': 1, 'wantons': 1, 'bird': 2, 'lets': 1, 'hop': 1, 'poor': 1, 'prisoner': 1, 'his': 3, 'twisted': 1, 'gyves': 1, 'silk': 1, 'thread': 1, 'plucks': 1, 'lovingjealous': 1, 'liberty': 1, 'much': 1, 'cherishing': 1, 'parting': 1, 'sorrow': 1, 'morrow': 1, 'sleep': 2, 'peace': 2, 'hence': 1, 'ghostly': 1, 'fathers': 1, 'cell': 1, 'help': 1, 'crave': 1, 'hap': 1}\n",
      "61 i\n",
      "42 and\n",
      "40 romeo\n",
      "34 to\n",
      "34 the\n",
      "32 thou\n",
      "32 juliet\n",
      "30 that\n",
      "29 my\n",
      "24 thee\n"
     ]
    }
   ],
   "source": [
    "import string\n",
    "path = \"Text Files/romeo-full.txt\"\n",
    "file_handle = open(path)\n",
    "\n",
    "characters_count = dict()\n",
    "\n",
    "for line in file_handle:\n",
    "    line = line.translate(line.maketrans('', '', string.punctuation))\n",
    "    line = line.lower()\n",
    "    words = line.split()\n",
    "    for word in words:\n",
    "        characters_count[word] = characters_count.get(word, 0) + 1\n",
    "\n",
    "file_handle.close()\n",
    "print(characters_count)\n",
    "\n",
    "# Sort the dictionary by value\n",
    "lst = list()\n",
    "for key, val in list(characters_count.items()):\n",
    "    lst.append((val, key))\n",
    "\n",
    "lst.sort(reverse=True)\n",
    "\n",
    "for key, val in lst[:10]:\n",
    "    print(key, val)\n"
   ]
  },
  {
   "attachments": {},
   "cell_type": "markdown",
   "metadata": {},
   "source": [
    "The first part of the program which reads the file and computes the dictionary that maps each word to the count of words in the document is unchanged. But instead of simply printing out `characters_count` and ending the program, we construct a list of `(val, key)` tuples and then sort the list in reverse order.\n",
    "\n",
    "Since the value is first, it will be used for the comparisons. If there is more than one tuple with the same value, it will look at the second element (the key), so tuples where the value is the same will be further sorted by the alphabetical order of the key.\n",
    "\n",
    "At the end we write a nice for loop which does a multiple assignment iteration and prints out the ten most common words by iterating through a slice of the list (`lst[:10]`)."
   ]
  },
  {
   "attachments": {
    "image-2.png": {
     "image/png": "[encoded data removed]"
    },
    "image.png": {
     "image/png": "[encoded data removed]"
    }
   },
   "cell_type": "markdown",
   "metadata": {},
   "source": [
    "## Using Tuples as Keys in Dictionaries\n",
    "\n",
    "Because tuples are hashable and lists are not, if we want to create a composite key to use in a dictionary we must use a tuple as the key.\n",
    "\n",
    "We would encounter a composite key if we wanted to create a telephone directory that maps from last-name, first-name pairs to telephone numbers. Assuming that we have defined the variables `last`, `first`, and `number`, we could write a dictionary assignment statement as follows:\n",
    "\n",
    "![image.png](attachment:image.png)\n",
    "\n",
    "The expression in brackets is a tuple. We could use tuple assignment in a for loop to traverse this dictionary.\n",
    "\n",
    "![image.png](attachment:image-2.png)\n",
    "\n",
    "This loop traverses the keys in `directory`, which are tuples. It assigns the elements of each tuple to `last` and `first`, then prints the name and corresponding telephone number.\n"
   ]
  }
 ],
 "metadata": {
  "kernelspec": {
   "display_name": "base",
   "language": "python",
   "name": "python3"
  },
  "language_info": {
   "codemirror_mode": {
    "name": "ipython",
    "version": 3
   },
   "file_extension": ".py",
   "mimetype": "text/x-python",
   "name": "python",
   "nbconvert_exporter": "python",
   "pygments_lexer": "ipython3",
   "version": "3.9.13"
  },
  "orig_nbformat": 4
 },
 "nbformat": 4,
 "nbformat_minor": 2
}
