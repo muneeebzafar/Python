{
 "cells": [
  {
   "attachments": {},
   "cell_type": "markdown",
   "metadata": {},
   "source": [
    "# Dictionaries\n",
    "It is a collection of *`key-value`* pairs, we use dictionaries to map a key to it's value.\n"
   ]
  },
  {
   "cell_type": "code",
   "execution_count": 20,
   "metadata": {},
   "outputs": [
    {
     "name": "stdout",
     "output_type": "stream",
     "text": [
      "<class 'dict'>\n",
      "{'x': 1, 'y': 2}\n"
     ]
    }
   ],
   "source": [
    "point = { 'x': 1,\n",
    "          'y': 2 }\n",
    "\n",
    "print(type(point))\n",
    "print(point)"
   ]
  },
  {
   "attachments": {},
   "cell_type": "markdown",
   "metadata": {},
   "source": [
    "In the example above,  we are using a string and integer for it's value. We can also use a built-in `dict` function to create new dictionaries."
   ]
  },
  {
   "cell_type": "code",
   "execution_count": 21,
   "metadata": {},
   "outputs": [
    {
     "name": "stdout",
     "output_type": "stream",
     "text": [
      "<class 'dict'>\n",
      "{'x': 1, 'y': 2}\n"
     ]
    }
   ],
   "source": [
    "point = dict(x=1, y=2)\n",
    "print(type(point))\n",
    "print(point)"
   ]
  },
  {
   "attachments": {},
   "cell_type": "markdown",
   "metadata": {},
   "source": [
    "We can only use `immutable types` (numbers, strings, and tuples) `as` a `key`, often we use strings and numbers. Value can be of any type."
   ]
  },
  {
   "cell_type": "code",
   "execution_count": 22,
   "metadata": {},
   "outputs": [
    {
     "name": "stdout",
     "output_type": "stream",
     "text": [
      "{'one': 'uno', 'two': 'dos', 'three': 'tres'}\n"
     ]
    }
   ],
   "source": [
    "english_to_spanish = dict(one = 'uno', two = 'dos', three = 'tres')\n",
    "print(english_to_spanish)\n"
   ]
  },
  {
   "attachments": {},
   "cell_type": "markdown",
   "metadata": {},
   "source": [
    "The order of the key-value pairs is not the same. In fact, if you type the same example on your computer, you might get a different result. In general, the order of items in a dictionary is unpredictable.\n",
    "\n",
    "In a dictionary, index is a name of key. Dictionaries are collection of key-value pairs, we cannot access an item using a numeric index as we do with list."
   ]
  },
  {
   "cell_type": "code",
   "execution_count": 23,
   "metadata": {},
   "outputs": [
    {
     "name": "stdout",
     "output_type": "stream",
     "text": [
      "1\n",
      "2\n"
     ]
    }
   ],
   "source": [
    "point = dict(x=1, y=2)\n",
    "print(point['x']) \n",
    "print(point['y'])"
   ]
  },
  {
   "attachments": {},
   "cell_type": "markdown",
   "metadata": {},
   "source": [
    "If the key isn’t in the dictionary, you get an exception (`KeyError`):"
   ]
  },
  {
   "cell_type": "code",
   "execution_count": 24,
   "metadata": {},
   "outputs": [
    {
     "ename": "KeyError",
     "evalue": "'z'",
     "output_type": "error",
     "traceback": [
      "\u001b[1;31m---------------------------------------------------------------------------\u001b[0m",
      "\u001b[1;31mKeyError\u001b[0m                                  Traceback (most recent call last)",
      "\u001b[1;32m~\\AppData\\Local\\Temp\\ipykernel_13848\\582910714.py\u001b[0m in \u001b[0;36m<module>\u001b[1;34m\u001b[0m\n\u001b[0;32m      1\u001b[0m \u001b[0mpoint\u001b[0m \u001b[1;33m=\u001b[0m \u001b[0mdict\u001b[0m\u001b[1;33m(\u001b[0m\u001b[0mx\u001b[0m\u001b[1;33m=\u001b[0m\u001b[1;36m1\u001b[0m\u001b[1;33m,\u001b[0m \u001b[0my\u001b[0m\u001b[1;33m=\u001b[0m\u001b[1;36m2\u001b[0m\u001b[1;33m)\u001b[0m\u001b[1;33m\u001b[0m\u001b[1;33m\u001b[0m\u001b[0m\n\u001b[1;32m----> 2\u001b[1;33m \u001b[0mprint\u001b[0m\u001b[1;33m(\u001b[0m\u001b[0mpoint\u001b[0m\u001b[1;33m[\u001b[0m\u001b[1;34m'z'\u001b[0m\u001b[1;33m]\u001b[0m\u001b[1;33m)\u001b[0m\u001b[1;33m\u001b[0m\u001b[1;33m\u001b[0m\u001b[0m\n\u001b[0m",
      "\u001b[1;31mKeyError\u001b[0m: 'z'"
     ]
    }
   ],
   "source": [
    "point = dict(x=1, y=2)\n",
    "print(point['z']) "
   ]
  },
  {
   "attachments": {},
   "cell_type": "markdown",
   "metadata": {},
   "source": [
    "There are two workarounds to avoid raising an exception.\n",
    "\n",
    "1. One Solution is to check for the existance of a `key` using `in` operator.\n",
    "\n",
    "2. The other solution is to use `get` method. In `get()` method, if a key doesn't exist it returns `None` or *default value* (specifid as 2nd argument)."
   ]
  },
  {
   "cell_type": "code",
   "execution_count": null,
   "metadata": {},
   "outputs": [
    {
     "name": "stdout",
     "output_type": "stream",
     "text": [
      "1\n"
     ]
    }
   ],
   "source": [
    "# using 'in' operator\n",
    "point = dict(x=1, y=2)\n",
    "\n",
    "# Entering invalid key\n",
    "if 'z' in point:\n",
    "    print(point['z'])\n",
    "\n",
    "# Entering valid key\n",
    "if 'x' in point:\n",
    "    print(point['x'])"
   ]
  },
  {
   "cell_type": "code",
   "execution_count": null,
   "metadata": {},
   "outputs": [
    {
     "name": "stdout",
     "output_type": "stream",
     "text": [
      "None\n",
      "1\n"
     ]
    }
   ],
   "source": [
    "# using 'get()' method\n",
    "point = dict(x=1, y=2)\n",
    "\n",
    "# Entering invalid key\n",
    "print(point.get('z'))\n",
    "\n",
    "# Entering valid key\n",
    "print(point.get('x'))"
   ]
  },
  {
   "attachments": {},
   "cell_type": "markdown",
   "metadata": {},
   "source": [
    "The `len` function works on dictionaries; it returns the number of key-value pairs:"
   ]
  },
  {
   "cell_type": "code",
   "execution_count": null,
   "metadata": {},
   "outputs": [
    {
     "name": "stdout",
     "output_type": "stream",
     "text": [
      "Number of key-value pairs:  2\n"
     ]
    }
   ],
   "source": [
    "point = dict(x=1, y=2)\n",
    "print(\"Number of key-value pairs: \",len(point))"
   ]
  },
  {
   "attachments": {},
   "cell_type": "markdown",
   "metadata": {},
   "source": [
    "We can also use `keys` method to retrieve keys of a dictionary. This is helpful if you want to sort the keys in alphabetical order. You first make a list of the keys in the dictionary using the `keys` method available in dictionary objects, and then sort that list."
   ]
  },
  {
   "cell_type": "code",
   "execution_count": null,
   "metadata": {},
   "outputs": [
    {
     "name": "stdout",
     "output_type": "stream",
     "text": [
      "['annie', 'chuck', 'jan']\n"
     ]
    }
   ],
   "source": [
    "counts = dict(chuck = 1, annie = 42, jan = 100)\n",
    "lst = list(counts.keys())\n",
    "lst.sort()\n",
    "print(lst)\n"
   ]
  },
  {
   "attachments": {},
   "cell_type": "markdown",
   "metadata": {},
   "source": [
    "To see whether something appears as a value in a dictionary, you can use the method `values`, which returns the values as a type that can be converted to a list, and then use the `in` operator:"
   ]
  },
  {
   "cell_type": "code",
   "execution_count": null,
   "metadata": {},
   "outputs": [
    {
     "name": "stdout",
     "output_type": "stream",
     "text": [
      "<class 'dict_values'>\n",
      "<class 'list'>\n",
      "True\n"
     ]
    }
   ],
   "source": [
    "point = dict(x=1, y=2)\n",
    "\n",
    "coordinates = point.values()\n",
    "print(type(coordinates))\n",
    "\n",
    "coordinates = list(coordinates)\n",
    "print(type(coordinates))\n",
    "\n",
    "print(1 in coordinates)"
   ]
  },
  {
   "attachments": {},
   "cell_type": "markdown",
   "metadata": {},
   "source": [
    "The `in` operator uses different algorithms for lists and dictionaries. For lists, it uses a *`linear search algorithm`*. As the list gets longer, the search time gets longer in direct proportion to the length of the list. For dictionaries, Python uses an algorithm called a *`hash table`* that has a remarkable property: the `in` operator takes about the same amount of time no matter how many items there are in a dictionary."
   ]
  },
  {
   "attachments": {},
   "cell_type": "markdown",
   "metadata": {},
   "source": [
    "## Loops and Dictionaries\n",
    "If you use a dictionary as the sequence in a `for` statement, it traverses the keys of the dictionary."
   ]
  },
  {
   "cell_type": "code",
   "execution_count": null,
   "metadata": {},
   "outputs": [
    {
     "name": "stdout",
     "output_type": "stream",
     "text": [
      "chuck 1\n",
      "annie 42\n",
      "jan 100\n"
     ]
    }
   ],
   "source": [
    "counts = dict(chuck = 1, annie = 42, jan = 100)\n",
    "for key in counts:\n",
    "    print(key, counts[key])"
   ]
  },
  {
   "attachments": {},
   "cell_type": "markdown",
   "metadata": {},
   "source": [
    "You can also use the `items` method of a dictionary to retrieve key and its value in `for` loop. `items` method puts the key-value pair in a tuple and then you can unpack it into key and value."
   ]
  },
  {
   "cell_type": "code",
   "execution_count": null,
   "metadata": {},
   "outputs": [
    {
     "name": "stdout",
     "output_type": "stream",
     "text": [
      "chuck 1\n",
      "annie 42\n",
      "jan 100\n"
     ]
    }
   ],
   "source": [
    "counts = dict(chuck = 1, annie = 42, jan = 100)\n",
    "for key, value in counts.items():\n",
    "    print(key, value)"
   ]
  },
  {
   "attachments": {},
   "cell_type": "markdown",
   "metadata": {},
   "source": [
    "If we wanted to find all the entries in a dictionary with a value above 10, we could write the following code:"
   ]
  },
  {
   "cell_type": "code",
   "execution_count": null,
   "metadata": {},
   "outputs": [
    {
     "name": "stdout",
     "output_type": "stream",
     "text": [
      "annie 42\n",
      "jan 100\n"
     ]
    }
   ],
   "source": [
    "counts = dict(chuck = 1, annie = 42, jan = 100)\n",
    "for key, value in counts.items():\n",
    "    if value > 10:\n",
    "        print(key, value)"
   ]
  },
  {
   "attachments": {},
   "cell_type": "markdown",
   "metadata": {},
   "source": [
    "If you want to print the keys in alphabetical order, you first make a list of the keys in the dictionary using the `keys` method available in dictionary objects, and then sort that list and loop through the sorted list, looking up each key and printing out key-value pairs in sorted order as follows:"
   ]
  },
  {
   "cell_type": "code",
   "execution_count": null,
   "metadata": {},
   "outputs": [
    {
     "name": "stdout",
     "output_type": "stream",
     "text": [
      "['chuck', 'annie', 'jan']\n",
      "annie 42\n",
      "chuck 1\n",
      "jan 100\n"
     ]
    }
   ],
   "source": [
    "counts = dict(chuck = 1, annie = 42, jan = 100)\n",
    "keys = list(counts.keys())\n",
    "print(keys)\n",
    "keys.sort()\n",
    "for key in keys:\n",
    "     print(key, counts[key])"
   ]
  },
  {
   "attachments": {},
   "cell_type": "markdown",
   "metadata": {},
   "source": [
    "First you see the list of keys in unsorted order that we get from the `keys` method. Then we see the key-value pairs in order from the `for` loop."
   ]
  },
  {
   "cell_type": "markdown",
   "metadata": {},
   "source": [
    "## Dictionary as a Set of Counters\n",
    "Suppose you are given a string and you want to count how many times each letter appears. \n",
    "\n",
    "You could create a dictionary with characters as keys and counters as the corresponding values. The first time you see a character, you would add an item to the dictionary. After that you would increment the value of an existing item.\n",
    "\n",
    "Advantage of this implementation is that we don’t have to know ahead of time which letters appear in the string and we only have to make room for the letters that do appear.\n",
    "\n",
    "Here is what the code might look like:"
   ]
  },
  {
   "cell_type": "code",
   "execution_count": null,
   "metadata": {},
   "outputs": [
    {
     "name": "stdout",
     "output_type": "stream",
     "text": [
      "{'b': 1, 'r': 2, 'o': 2, 'n': 1, 't': 1, 's': 2, 'a': 1, 'u': 2}\n"
     ]
    }
   ],
   "source": [
    "word = 'brontosaurus'\n",
    "characters_count = dict() # empty dictinary\n",
    "\n",
    "for char in word:\n",
    "    if char not in characters_count:\n",
    "        characters_count[char] = 1\n",
    "    else:\n",
    "        characters_count[char] += 1\n",
    "\n",
    "print(characters_count)"
   ]
  },
  {
   "cell_type": "markdown",
   "metadata": {},
   "source": [
    "The `for` loop traverses the string. Each time through the loop, if the character (`char`) is not in the dictionary, we create a new item with key `char` and the initial value 1 (since we have seen this letter once). If `char` is already in the dictionary we increment `characters_count[char]`.\n",
    "\n",
    "We can also use `get` method to write our loop more concisely. Because the `get` method automatically handles the case where a key is not in a dictionary, we can reduce four lines down to one and eliminate the `if` statement."
   ]
  },
  {
   "cell_type": "code",
   "execution_count": null,
   "metadata": {},
   "outputs": [
    {
     "name": "stdout",
     "output_type": "stream",
     "text": [
      "{'b': 1, 'r': 2, 'o': 2, 'n': 1, 't': 1, 's': 2, 'a': 1, 'u': 2}\n"
     ]
    }
   ],
   "source": [
    "word = 'brontosaurus'\n",
    "characters_count = dict() \n",
    "\n",
    "for char in word:\n",
    "    characters_count[char] = characters_count.get(char, 0) + 1 # 0 is a default value\n",
    "\n",
    "print(characters_count)"
   ]
  },
  {
   "attachments": {},
   "cell_type": "markdown",
   "metadata": {},
   "source": [
    "## Dictionaries and Files\n",
    "One of the common uses of a dictionary is to count the occurrence of words in a file with some written text. Let’s start with a very simple file of words taken from the text of Romeo and Juliet.\n",
    "\n",
    "For the first set of examples, we will use a shortened and simplified version of the text with no punctuation (`romeo.txt` in Text Files folder). Later we will work with the text of the scene with punctuation included.\n",
    "\n"
   ]
  },
  {
   "cell_type": "code",
   "execution_count": null,
   "metadata": {},
   "outputs": [
    {
     "name": "stdout",
     "output_type": "stream",
     "text": [
      "{'But': 1, 'soft': 1, 'what': 1, 'light': 1, 'through': 1, 'yonder': 1, 'window': 1, 'breaks': 1, 'It': 1, 'is': 3, 'the': 3, 'east': 1, 'and': 3, 'Juliet': 1, 'sun': 2, 'Arise': 1, 'fair': 1, 'kill': 1, 'envious': 1, 'moon': 1, 'Who': 1, 'already': 1, 'sick': 1, 'pale': 1, 'with': 1, 'grief': 1}\n"
     ]
    }
   ],
   "source": [
    "path = \"Text Files/romeo.txt\"\n",
    "file_handle = open(path)\n",
    "\n",
    "characters_count = dict()\n",
    "\n",
    "for line in file_handle:\n",
    "    words = line.split()\n",
    "    for word in words:\n",
    "        if word not in characters_count:\n",
    "            characters_count[word] = 1\n",
    "        else:\n",
    "            characters_count[word] += 1\n",
    "\n",
    "file_handle.close()\n",
    "print(characters_count)"
   ]
  },
  {
   "attachments": {},
   "cell_type": "markdown",
   "metadata": {},
   "source": [
    "We can rewrite the above program when using `get` method as:"
   ]
  },
  {
   "cell_type": "code",
   "execution_count": 10,
   "metadata": {},
   "outputs": [
    {
     "name": "stdout",
     "output_type": "stream",
     "text": [
      "{'But': 1, 'soft': 1, 'what': 1, 'light': 1, 'through': 1, 'yonder': 1, 'window': 1, 'breaks': 1, 'It': 1, 'is': 3, 'the': 3, 'east': 1, 'and': 3, 'Juliet': 1, 'sun': 2, 'Arise': 1, 'fair': 1, 'kill': 1, 'envious': 1, 'moon': 1, 'Who': 1, 'already': 1, 'sick': 1, 'pale': 1, 'with': 1, 'grief': 1}\n"
     ]
    }
   ],
   "source": [
    "path = \"Text Files/romeo.txt\"\n",
    "file_handle = open(path)\n",
    "\n",
    "characters_count = dict()\n",
    "\n",
    "for line in file_handle:\n",
    "    words = line.split()\n",
    "    for word in words:\n",
    "        characters_count[word] = characters_count.get(word, 0) + 1\n",
    "\n",
    "file_handle.close()\n",
    "print(characters_count)"
   ]
  },
  {
   "attachments": {},
   "cell_type": "markdown",
   "metadata": {},
   "source": [
    "We have two for loops. The outer loop is reading the lines of the file and the inner loop is iterating through each of the words on that particular line. The combination of the two nested loops ensures that we will count every word on every line of the input file."
   ]
  },
  {
   "attachments": {},
   "cell_type": "markdown",
   "metadata": {},
   "source": [
    "### Advanced Text Parsing\n",
    "In the above example using the file romeo.txt, we made the file as simple as possible by removing all punctuation by hand. The actual text has lots of punctuation (in `romeo_punc.txt`)"
   ]
  },
  {
   "cell_type": "code",
   "execution_count": 3,
   "metadata": {},
   "outputs": [
    {
     "name": "stdout",
     "output_type": "stream",
     "text": [
      "But, soft! what light through yonder window breaks?\n",
      "It is the east, and Juliet is the sun.\n",
      "Arise, fair sun, and kill the envious moon,\n",
      "Who is already sick and pale with grief,\n"
     ]
    }
   ],
   "source": [
    "path = \"Text Files/romeo_punc.txt\"\n",
    "file_handle = open(path)\n",
    "\n",
    "for line in file_handle:\n",
    "    print(line.rstrip())"
   ]
  },
  {
   "attachments": {},
   "cell_type": "markdown",
   "metadata": {},
   "source": [
    "Since the Python `split` function looks for spaces and treats words as tokens separated by spaces, we would treat the words “soft!” and “soft” as *different* words and create a separate dictionary entry for each word.\n",
    "\n",
    "Also since the file has capitalization, we would treat “who” and “Who” as different words with different counts.\n",
    "\n",
    "We can solve both these problems by using the string methods `lower`, `punctuation`, and `translate`. The `translate` is the most subtle of the methods. Here is the documentation for `translate`:\n",
    "\n",
    "`line.translate(str.maketrans(fromstr, tostr, deletestr))`\n",
    "\n",
    "*Replace the characters in `fromstr` with the character in the same position in `tostr` and delete all characters that are in `deletestr`. The `fromstr` and `tostr` can be empty strings and the `deletestr` parameter can be omitted.*\n",
    "\n",
    "We will not specify the tostr but we will use the deletestr parameter to delete all of the punctuation.\n"
   ]
  },
  {
   "cell_type": "code",
   "execution_count": 13,
   "metadata": {},
   "outputs": [
    {
     "name": "stdout",
     "output_type": "stream",
     "text": [
      "{'but': 1, 'soft': 1, 'what': 1, 'light': 1, 'through': 1, 'yonder': 1, 'window': 1, 'breaks': 1, 'it': 1, 'is': 3, 'the': 3, 'east': 1, 'and': 3, 'juliet': 1, 'sun': 2, 'arise': 1, 'fair': 1, 'kill': 1, 'envious': 1, 'moon': 1, 'who': 1, 'already': 1, 'sick': 1, 'pale': 1, 'with': 1, 'grief': 1}\n"
     ]
    }
   ],
   "source": [
    "import string\n",
    "path = \"Text Files/romeo_punc.txt\"\n",
    "file_handle = open(path)\n",
    "\n",
    "characters_count = dict()\n",
    "\n",
    "for line in file_handle:\n",
    "    line = line.translate(line.maketrans('', '', string.punctuation))\n",
    "    line = line.lower()\n",
    "    words = line.split()\n",
    "    for word in words:\n",
    "        characters_count[word] = characters_count.get(word, 0) + 1\n",
    "\n",
    "file_handle.close()\n",
    "print(characters_count)"
   ]
  }
 ],
 "metadata": {
  "kernelspec": {
   "display_name": "base",
   "language": "python",
   "name": "python3"
  },
  "language_info": {
   "codemirror_mode": {
    "name": "ipython",
    "version": 3
   },
   "file_extension": ".py",
   "mimetype": "text/x-python",
   "name": "python",
   "nbconvert_exporter": "python",
   "pygments_lexer": "ipython3",
   "version": "3.9.13"
  },
  "orig_nbformat": 4
 },
 "nbformat": 4,
 "nbformat_minor": 2
}
