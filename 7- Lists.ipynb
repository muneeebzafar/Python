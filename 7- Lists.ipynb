{
 "cells": [
  {
   "attachments": {},
   "cell_type": "markdown",
   "metadata": {},
   "source": [
    "# Lists\n",
    "Like a string, a *list* is a sequence of values. In a string, the values are characters; in a list, they can be any type. The values in list are called *elements* or sometimes *items*.\n",
    "\n",
    "There are several ways to create a new list; the simplest is to enclose the elements in square brackets (`[` and `]`):"
   ]
  },
  {
   "cell_type": "code",
   "execution_count": 76,
   "metadata": {},
   "outputs": [
    {
     "name": "stdout",
     "output_type": "stream",
     "text": [
      "<class 'list'>\n",
      "<class 'list'>\n"
     ]
    }
   ],
   "source": [
    "letters = ['a', 'b', 'c', 'd']\n",
    "numbers = [1, 2, 3]\n",
    "\n",
    "print(type(numbers))\n",
    "print(type(letters))"
   ]
  },
  {
   "attachments": {},
   "cell_type": "markdown",
   "metadata": {},
   "source": [
    "The elements of a list don’t have to be the same type. In between square brackets, you can have an object of any type, like a list of strings, numbers, booleans, or even a list of lists. A list within another list is *nested*."
   ]
  },
  {
   "cell_type": "code",
   "execution_count": 74,
   "metadata": {},
   "outputs": [
    {
     "name": "stdout",
     "output_type": "stream",
     "text": [
      "<class 'list'>\n"
     ]
    }
   ],
   "source": [
    "matrix = [[1, 2],[3, 4],[5, 6]] # 2-D list\n",
    "print(type(matrix))\n"
   ]
  },
  {
   "attachments": {},
   "cell_type": "markdown",
   "metadata": {},
   "source": [
    "The elements of a list don’t have to be the same type."
   ]
  },
  {
   "cell_type": "code",
   "execution_count": 75,
   "metadata": {},
   "outputs": [
    {
     "name": "stdout",
     "output_type": "stream",
     "text": [
      "<class 'list'>\n"
     ]
    }
   ],
   "source": [
    "another_list = ['string', 2.0, 5, [10, 20]]\n",
    "print(type(another_list))"
   ]
  },
  {
   "attachments": {},
   "cell_type": "markdown",
   "metadata": {},
   "source": [
    "To get the numbers of items in our list we can use `len` function"
   ]
  },
  {
   "cell_type": "code",
   "execution_count": 77,
   "metadata": {},
   "outputs": [
    {
     "name": "stdout",
     "output_type": "stream",
     "text": [
      "3\n",
      "4\n",
      "4\n"
     ]
    }
   ],
   "source": [
    "print(len(numbers))\n",
    "print(len(letters))\n",
    "print(len(another_list))"
   ]
  },
  {
   "attachments": {},
   "cell_type": "markdown",
   "metadata": {},
   "source": [
    "Although a list can contain another list, the *nested list* still counts as a single element. "
   ]
  },
  {
   "cell_type": "code",
   "execution_count": 78,
   "metadata": {},
   "outputs": [
    {
     "name": "stdout",
     "output_type": "stream",
     "text": [
      "3\n"
     ]
    }
   ],
   "source": [
    "matrix = [[1, 2],[3, 4],[5, 6]] # 2-D list\n",
    "print(len(matrix)) "
   ]
  },
  {
   "attachments": {},
   "cell_type": "markdown",
   "metadata": {},
   "source": [
    "## Lists and Functions\n",
    "There are a number of built-in functions that can be used on lists that allow you to quickly look through a list. \n"
   ]
  },
  {
   "cell_type": "code",
   "execution_count": 80,
   "metadata": {},
   "outputs": [
    {
     "name": "stdout",
     "output_type": "stream",
     "text": [
      "Count:  6\n",
      "Max:  74\n",
      "Min:  3\n",
      "Sum:  154\n"
     ]
    }
   ],
   "source": [
    "numbers = [3, 41, 12, 9, 74, 15]\n",
    "\n",
    "print('Count: ', len(numbers))\n",
    "print('Max: ', max(numbers))\n",
    "print('Min: ', min(numbers))\n",
    "print('Sum: ', sum(numbers))\n"
   ]
  },
  {
   "attachments": {},
   "cell_type": "markdown",
   "metadata": {},
   "source": [
    "The `sum()` function only works when the list elements are numbers. The other functions (`max()`, `len()`, etc.) work with lists of strings and other types that can be comparable."
   ]
  },
  {
   "attachments": {},
   "cell_type": "markdown",
   "metadata": {},
   "source": [
    "## Lists and Strings\n",
    "A string is a sequence of characters and a list is a sequence of values, but a list of characters is not the same as a string. To convert from a string to a list of characters, you can use `list` function:"
   ]
  },
  {
   "cell_type": "code",
   "execution_count": 81,
   "metadata": {},
   "outputs": [
    {
     "name": "stdout",
     "output_type": "stream",
     "text": [
      "['P', 'y', 't', 'h', 'o', 'n', ' ', 'P', 'r', 'o', 'g', 'r', 'a', 'm', 'm', 'i', 'n', 'g']\n"
     ]
    }
   ],
   "source": [
    "letters = list('Python Programming')\n",
    "print(letters)"
   ]
  },
  {
   "attachments": {},
   "cell_type": "markdown",
   "metadata": {},
   "source": [
    "The `list` function breaks a string into individual letters. If you want to break a string into words, you can use the `split` method:"
   ]
  },
  {
   "cell_type": "code",
   "execution_count": 82,
   "metadata": {},
   "outputs": [
    {
     "name": "stdout",
     "output_type": "stream",
     "text": [
      "['pining', 'for', 'the', 'fjords']\n"
     ]
    }
   ],
   "source": [
    "sentence = \"pining for the fjords\"\n",
    "words = sentence.split()\n",
    "\n",
    "print(words)"
   ]
  },
  {
   "attachments": {},
   "cell_type": "markdown",
   "metadata": {},
   "source": [
    "Once you have used `split` to break the string into a list of words, you can use the index operator (square bracket) to look at a particular word in the list.\n",
    "\n",
    "You can call `split` with an optional argument called a *delimiter* that specifies which characters to use as word boundaries. The following example uses a hyphen as a delimiter:"
   ]
  },
  {
   "cell_type": "code",
   "execution_count": 85,
   "metadata": {},
   "outputs": [
    {
     "name": "stdout",
     "output_type": "stream",
     "text": [
      "['Python', 'for', 'everyone']\n"
     ]
    }
   ],
   "source": [
    "sentence = \"Python-for-everyone\"\n",
    "delimiter = '-'\n",
    "words = sentence.split(delimiter)\n",
    "print(words)"
   ]
  },
  {
   "attachments": {},
   "cell_type": "markdown",
   "metadata": {},
   "source": [
    "`join` is the inverse of `split`. It takes a list of strings and concatenates the elements. `join` is a string method, so you have to invoke it on the delimiter and pass the list as a parameter:"
   ]
  },
  {
   "cell_type": "code",
   "execution_count": 86,
   "metadata": {},
   "outputs": [
    {
     "name": "stdout",
     "output_type": "stream",
     "text": [
      "pining for the fjords\n"
     ]
    }
   ],
   "source": [
    "words = ['pining', 'for', 'the', 'fjords']\n",
    "delimeter = ' '\n",
    "sentence = delimeter.join(words)\n",
    "\n",
    "print(sentence)"
   ]
  },
  {
   "attachments": {},
   "cell_type": "markdown",
   "metadata": {},
   "source": [
    "## Iterables in a List\n",
    "\n",
    "Let's say we want a list of numbers from 0 to 20. To do that we can use `list` function which takes an iterable and convert it into a list. \n",
    "\n",
    "We can use a `range` function which will generate numbers from 0 to 20, and `range` function is an iterable as well.\n",
    "\n"
   ]
  },
  {
   "cell_type": "code",
   "execution_count": 26,
   "metadata": {},
   "outputs": [
    {
     "name": "stdout",
     "output_type": "stream",
     "text": [
      "<class 'list'>\n",
      "[0, 1, 2, 3, 4, 5, 6, 7, 8, 9, 10, 11, 12, 13, 14, 15, 16, 17, 18, 19, 20]\n"
     ]
    }
   ],
   "source": [
    "numbers = list(range(21)) # 21 is not included\n",
    "print(type(numbers))\n",
    "print(numbers)"
   ]
  },
  {
   "attachments": {},
   "cell_type": "markdown",
   "metadata": {},
   "source": [
    "Strings are also iterable"
   ]
  },
  {
   "cell_type": "code",
   "execution_count": 27,
   "metadata": {},
   "outputs": [
    {
     "name": "stdout",
     "output_type": "stream",
     "text": [
      "<class 'list'>\n",
      "['P', 'y', 't', 'h', 'o', 'n', ' ', 'P', 'r', 'o', 'g', 'r', 'a', 'm', 'm', 'i', 'n', 'g']\n"
     ]
    }
   ],
   "source": [
    "letters = list('Python Programming')\n",
    "print(type(letters))\n",
    "print(letters)"
   ]
  },
  {
   "cell_type": "markdown",
   "metadata": {},
   "source": [
    "## Finding Items in a List\n",
    "To find the index of a given object in a list. "
   ]
  },
  {
   "cell_type": "code",
   "execution_count": null,
   "metadata": {},
   "outputs": [
    {
     "name": "stdout",
     "output_type": "stream",
     "text": [
      "4\n"
     ]
    }
   ],
   "source": [
    "letters = list(\"Python\")\n",
    "\n",
    "if \"o\" in letters:\n",
    "    print(letters.index(\"o\"))"
   ]
  },
  {
   "cell_type": "markdown",
   "metadata": {},
   "source": [
    "We used the conditional statement to find out whether `\"o\"` exists in the list or not, coz if it didn't exist then `index` method will cause an error in the program and we don't want that."
   ]
  },
  {
   "cell_type": "code",
   "execution_count": 2,
   "metadata": {},
   "outputs": [
    {
     "ename": "ValueError",
     "evalue": "'p' is not in list",
     "output_type": "error",
     "traceback": [
      "\u001b[1;31m---------------------------------------------------------------------------\u001b[0m",
      "\u001b[1;31mValueError\u001b[0m                                Traceback (most recent call last)",
      "\u001b[1;32m~\\AppData\\Local\\Temp\\ipykernel_12428\\133451727.py\u001b[0m in \u001b[0;36m<module>\u001b[1;34m\u001b[0m\n\u001b[0;32m      1\u001b[0m \u001b[0mletters\u001b[0m \u001b[1;33m=\u001b[0m \u001b[0mlist\u001b[0m\u001b[1;33m(\u001b[0m\u001b[1;34m\"Python\"\u001b[0m\u001b[1;33m)\u001b[0m\u001b[1;33m\u001b[0m\u001b[1;33m\u001b[0m\u001b[0m\n\u001b[1;32m----> 2\u001b[1;33m \u001b[0mprint\u001b[0m\u001b[1;33m(\u001b[0m\u001b[0mletters\u001b[0m\u001b[1;33m.\u001b[0m\u001b[0mindex\u001b[0m\u001b[1;33m(\u001b[0m\u001b[1;34m\"p\"\u001b[0m\u001b[1;33m)\u001b[0m\u001b[1;33m)\u001b[0m\u001b[1;33m\u001b[0m\u001b[1;33m\u001b[0m\u001b[0m\n\u001b[0m",
      "\u001b[1;31mValueError\u001b[0m: 'p' is not in list"
     ]
    }
   ],
   "source": [
    "letters = list(\"Python\")\n",
    "print(letters.index(\"p\"))"
   ]
  },
  {
   "attachments": {},
   "cell_type": "markdown",
   "metadata": {},
   "source": [
    "To find the number of occurences in a given list, we can use `count` method."
   ]
  },
  {
   "cell_type": "code",
   "execution_count": 3,
   "metadata": {},
   "outputs": [
    {
     "name": "stdout",
     "output_type": "stream",
     "text": [
      "2\n"
     ]
    }
   ],
   "source": [
    "letters = list(\"Python Programming\")\n",
    "print(letters.count(\"P\"))"
   ]
  },
  {
   "attachments": {},
   "cell_type": "markdown",
   "metadata": {},
   "source": [
    "## Accessing Items in a List\n",
    "The syntax for accessing the elements of a list is the same as for accessing the characters of a string: the bracket operator. The expression inside the brackets specifies the index. Remember that the indices start at 0:\n"
   ]
  },
  {
   "cell_type": "code",
   "execution_count": 28,
   "metadata": {},
   "outputs": [
    {
     "name": "stdout",
     "output_type": "stream",
     "text": [
      "P\n"
     ]
    }
   ],
   "source": [
    "letters = list(\"Python\")\n",
    "print(letters[0])"
   ]
  },
  {
   "attachments": {},
   "cell_type": "markdown",
   "metadata": {},
   "source": [
    "Unlike strings, lists are mutable because **you can change the order of items in a list or reassign an item in a list**. When the bracket operator appears on the left side of an assignment, it identifies the element of the list that will be assigned."
   ]
  },
  {
   "cell_type": "code",
   "execution_count": 29,
   "metadata": {},
   "outputs": [
    {
     "name": "stdout",
     "output_type": "stream",
     "text": [
      "['p', 'y', 't', 'h', 'o', 'n']\n"
     ]
    }
   ],
   "source": [
    "letters[0] = 'p'\n",
    "print(letters)"
   ]
  },
  {
   "attachments": {},
   "cell_type": "markdown",
   "metadata": {},
   "source": [
    "You can think of a list as a relationship between indices and elements. This relationship is called a *mapping*; each index “maps to” one of the elements."
   ]
  },
  {
   "attachments": {},
   "cell_type": "markdown",
   "metadata": {},
   "source": [
    "List indices work the same way as string indices:\n",
    "\n",
    "* Any integer expression can be used as an index.\n",
    "\n",
    "* If you try to read or write an element that does not exist, you get an IndexError.\n",
    "\n",
    "* If an index has a negative value, it counts backward from the end of the list.\n",
    "\n"
   ]
  },
  {
   "attachments": {},
   "cell_type": "markdown",
   "metadata": {},
   "source": [
    "### Using Negetive Index"
   ]
  },
  {
   "cell_type": "code",
   "execution_count": 30,
   "metadata": {},
   "outputs": [
    {
     "name": "stdout",
     "output_type": "stream",
     "text": [
      "['P', 'y', 't', 'h', 'o', 'n'] 6\n",
      "n\n",
      "h\n",
      "P\n"
     ]
    }
   ],
   "source": [
    "letters = list(\"Python\")\n",
    "print(letters, len(letters))\n",
    "print(letters[-1])\n",
    "print(letters[-3])\n",
    "print(letters[-6])"
   ]
  },
  {
   "attachments": {},
   "cell_type": "markdown",
   "metadata": {},
   "source": [
    "### Slicing a List\n",
    " Slicing allows you to select multiple elements from a list, thus creating a *new list*.\n",
    " You can do this by specifying a range, using a colon(`:`).\n",
    "\n",
    " The index you specify before the colon (where the slice starts) is included \n",
    " \n",
    " The index you specify after the colon (where the slice ends) is not."
   ]
  },
  {
   "cell_type": "code",
   "execution_count": 31,
   "metadata": {},
   "outputs": [
    {
     "name": "stdout",
     "output_type": "stream",
     "text": [
      "['P', 'y', 't', 'h', 'o', 'n', ' ', 'P', 'r', 'o', 'g', 'r', 'a', 'm', 'm', 'i', 'n', 'g'] 18\n"
     ]
    }
   ],
   "source": [
    "letters = list(\"Python Programming\")\n",
    "print(letters, len(letters))"
   ]
  },
  {
   "cell_type": "code",
   "execution_count": 32,
   "metadata": {},
   "outputs": [
    {
     "name": "stdout",
     "output_type": "stream",
     "text": [
      "['P', 'y', 't', 'h', 'o', 'n']\n"
     ]
    }
   ],
   "source": [
    "print(letters[0:6])"
   ]
  },
  {
   "cell_type": "markdown",
   "metadata": {},
   "source": [
    "You can also choose to just leave out the index before or after the colon"
   ]
  },
  {
   "cell_type": "code",
   "execution_count": 33,
   "metadata": {},
   "outputs": [
    {
     "name": "stdout",
     "output_type": "stream",
     "text": [
      "['P', 'y', 't', 'h', 'o', 'n']\n",
      "['P', 'r', 'o', 'g', 'r', 'a', 'm', 'm', 'i', 'n', 'g']\n"
     ]
    }
   ],
   "source": [
    "print(letters[:6])  \n",
    "print(letters[7:]) "
   ]
  },
  {
   "attachments": {},
   "cell_type": "markdown",
   "metadata": {},
   "source": [
    "To get a copy of our original list"
   ]
  },
  {
   "cell_type": "code",
   "execution_count": 34,
   "metadata": {},
   "outputs": [
    {
     "name": "stdout",
     "output_type": "stream",
     "text": [
      "['P', 'y', 't', 'h', 'o', 'n', ' ', 'P', 'r', 'o', 'g', 'r', 'a', 'm', 'm', 'i', 'n', 'g']\n"
     ]
    }
   ],
   "source": [
    "copy = letters[:]\n",
    "print(copy)"
   ]
  },
  {
   "attachments": {},
   "cell_type": "markdown",
   "metadata": {},
   "source": [
    "When slicing a list we can also provide a step like strings."
   ]
  },
  {
   "cell_type": "code",
   "execution_count": 35,
   "metadata": {},
   "outputs": [
    {
     "name": "stdout",
     "output_type": "stream",
     "text": [
      "['P', 't', 'o', ' ', 'r', 'g', 'a', 'm', 'n']\n"
     ]
    }
   ],
   "source": [
    "print(letters[::2]) # step of 2"
   ]
  },
  {
   "attachments": {},
   "cell_type": "markdown",
   "metadata": {},
   "source": [
    "This is useful in a situation where you want to return every 2nd or 3rd element of the list."
   ]
  },
  {
   "cell_type": "code",
   "execution_count": 36,
   "metadata": {},
   "outputs": [
    {
     "name": "stdout",
     "output_type": "stream",
     "text": [
      "[0, 2, 4, 6, 8, 10, 12, 14, 16, 18, 20]\n",
      "[1, 3, 5, 7, 9, 11, 13, 15, 17, 19]\n"
     ]
    }
   ],
   "source": [
    "numbers= list(range(21))\n",
    "print(numbers[::2]) # even numbers\n",
    "print(numbers[1::2]) # odd numbers\n"
   ]
  },
  {
   "attachments": {},
   "cell_type": "markdown",
   "metadata": {},
   "source": [
    "We can also use the step as a negetive number, it will reverse the list. The position of starting and end index will be swapped as well, also python will slice the list first and then it will reverse it. Python will perform two operations(slicing then reversing).\n",
    "\n",
    "When using negitive number in step\n",
    "\n",
    "*`list[end : start : step(-ive)]`*\n",
    "\n",
    "This is quite confusing. Better approach will be to slice the list 1st, and then reverse it ourselves in two different steps for better readability."
   ]
  },
  {
   "cell_type": "code",
   "execution_count": 37,
   "metadata": {},
   "outputs": [
    {
     "name": "stdout",
     "output_type": "stream",
     "text": [
      "[20, 18, 16, 14, 12, 10, 8, 6, 4, 2, 0]\n",
      "[19, 17, 15, 13, 11, 9, 7, 5, 3, 1]\n"
     ]
    }
   ],
   "source": [
    "# Slicing \n",
    "even = numbers[::2] \n",
    "odd = numbers[1::2]\n",
    "\n",
    "# Reversing\n",
    "even = even[::-1]\n",
    "odd = odd [::-1]\n",
    "\n",
    "print(even)\n",
    "print(odd)"
   ]
  },
  {
   "attachments": {},
   "cell_type": "markdown",
   "metadata": {},
   "source": [
    "#### Slicing List of Lists\n",
    "To subset a list of lists, you can use the same technique as before: square brackets."
   ]
  },
  {
   "cell_type": "code",
   "execution_count": 38,
   "metadata": {},
   "outputs": [
    {
     "name": "stdout",
     "output_type": "stream",
     "text": [
      "['g', 'h', 'i']\n"
     ]
    }
   ],
   "source": [
    "x = [[\"a\", \"b\", \"c\"],\n",
    "     [\"d\", \"e\", \"f\"],\n",
    "     [\"g\", \"h\", \"i\"]]\n",
    "\n",
    "print(x[2])"
   ]
  },
  {
   "cell_type": "code",
   "execution_count": 39,
   "metadata": {},
   "outputs": [
    {
     "name": "stdout",
     "output_type": "stream",
     "text": [
      "g\n"
     ]
    }
   ],
   "source": [
    "print(x[2][0]) # Selecting 1st element of last row"
   ]
  },
  {
   "cell_type": "code",
   "execution_count": 40,
   "metadata": {},
   "outputs": [
    {
     "name": "stdout",
     "output_type": "stream",
     "text": [
      "['g', 'h']\n"
     ]
    }
   ],
   "source": [
    "print(x[2][:2]) # Selecting 1st and 2nd element of last row as a list\n"
   ]
  },
  {
   "cell_type": "markdown",
   "metadata": {},
   "source": [
    "## Manipulating Lists\n",
    "It is a way to change, add, or remove elements from your list"
   ]
  },
  {
   "cell_type": "markdown",
   "metadata": {},
   "source": [
    "### Changing Elements in a list\n",
    "lets change the height of your dad in 'family_height' list."
   ]
  },
  {
   "cell_type": "code",
   "execution_count": 41,
   "metadata": {},
   "outputs": [
    {
     "name": "stdout",
     "output_type": "stream",
     "text": [
      "['brother', 1.78, 'sister', 1.74]\n"
     ]
    }
   ],
   "source": [
    "family_height = ['brother', 1.78, 'sister', 1.02,]\n",
    "family_height[-1] = 1.74  # you can also use 3 instead of -1\n",
    "print(family_height)"
   ]
  },
  {
   "attachments": {},
   "cell_type": "markdown",
   "metadata": {},
   "source": [
    "You can even change an entire list slice at once. A slice operator on the left side of an assignment can *`update multiple elements`*:"
   ]
  },
  {
   "cell_type": "code",
   "execution_count": 42,
   "metadata": {},
   "outputs": [
    {
     "name": "stdout",
     "output_type": "stream",
     "text": [
      "['father', 1.77, 'sister', 1.74]\n"
     ]
    }
   ],
   "source": [
    "family_height[:2] = ['father', 1.77]\n",
    "print(family_height)"
   ]
  },
  {
   "cell_type": "code",
   "execution_count": 43,
   "metadata": {},
   "outputs": [
    {
     "name": "stdout",
     "output_type": "stream",
     "text": [
      "['father', 1.77, 'mother', 1.8]\n"
     ]
    }
   ],
   "source": [
    "family_height[2:4] = ['mother', 1.80]\n",
    "print(family_height)"
   ]
  },
  {
   "attachments": {},
   "cell_type": "markdown",
   "metadata": {},
   "source": [
    "### Adding Element in a List\n",
    "\n",
    "If you use the \"+\" operator with two lists, Python simply pastes together their contents in a single list. In other words \"+\" operator can be used to add elements in the list.\n",
    "\n",
    "Suppose you want to add your own name and height to the `family_height` list."
   ]
  },
  {
   "cell_type": "code",
   "execution_count": 44,
   "metadata": {},
   "outputs": [
    {
     "name": "stdout",
     "output_type": "stream",
     "text": [
      "['brother', 1.78, 'sister', 1.02, 'mother', 1.57, 'father', 1.75, 'myself', 1.73]\n"
     ]
    }
   ],
   "source": [
    "family_height = ['brother', 1.78, 'sister', 1.02, 'mother', 1.57, 'father', 1.75]\n",
    "family_height += ['myself', 1.73]  # family_height = family_height + ['muneeb', 1.73]\n",
    "print(family_height)"
   ]
  },
  {
   "attachments": {},
   "cell_type": "markdown",
   "metadata": {},
   "source": [
    "`append` method adds a new element to the `end of a list`:"
   ]
  },
  {
   "cell_type": "code",
   "execution_count": 45,
   "metadata": {},
   "outputs": [
    {
     "name": "stdout",
     "output_type": "stream",
     "text": [
      "['brother', 1.78, 'sister', 1.02, 'mother', 1.57, 'father', 1.75, 'myself']\n",
      "['brother', 1.78, 'sister', 1.02, 'mother', 1.57, 'father', 1.75, 'myself', 1.73]\n"
     ]
    }
   ],
   "source": [
    "family_height = ['brother', 1.78, 'sister', 1.02, 'mother', 1.57, 'father', 1.75]\n",
    "\n",
    "family_height.append('myself')\n",
    "print(family_height)\n",
    "\n",
    "family_height.append(1.73)\n",
    "print(family_height)\n"
   ]
  },
  {
   "attachments": {},
   "cell_type": "markdown",
   "metadata": {},
   "source": [
    "To add an item at a `specific position` we can use `insert` method"
   ]
  },
  {
   "cell_type": "code",
   "execution_count": 46,
   "metadata": {},
   "outputs": [
    {
     "name": "stdout",
     "output_type": "stream",
     "text": [
      "['brother', 1.78, 'myself', 1.73, 'sister', 1.02, 'mother', 1.57, 'father', 1.75]\n"
     ]
    }
   ],
   "source": [
    "family_height = ['brother', 1.78, 'sister', 1.02, 'mother', 1.57, 'father', 1.75]\n",
    "\n",
    "family_height.insert(2,'myself') # insert(index, element to add) \n",
    "family_height.insert(3,1.73) # insert(index, element to add) \n",
    "print(family_height)\n"
   ]
  },
  {
   "attachments": {},
   "cell_type": "markdown",
   "metadata": {},
   "source": [
    "`extend` takes an iterable as an argument and appends all of the elements of iterable in a list:"
   ]
  },
  {
   "cell_type": "code",
   "execution_count": 47,
   "metadata": {},
   "outputs": [
    {
     "name": "stdout",
     "output_type": "stream",
     "text": [
      "['brother', 1.78, 'sister', 1.02, 'mother', 1.57, 'father', 1.75, 'myself', 1.73]\n"
     ]
    }
   ],
   "source": [
    "family_height = ['brother', 1.78, 'sister', 1.02, 'mother', 1.57, 'father', 1.75]\n",
    "family_height.extend(['myself', 1.73])\n",
    "print(family_height)\n"
   ]
  },
  {
   "attachments": {},
   "cell_type": "markdown",
   "metadata": {},
   "source": [
    "### Removing Element from a List\n",
    "There are several ways to delete elements from a list. If you know the index of the element you want, you can use `pop`:\n",
    "\n"
   ]
  },
  {
   "cell_type": "code",
   "execution_count": 48,
   "metadata": {},
   "outputs": [
    {
     "name": "stdout",
     "output_type": "stream",
     "text": [
      "['brother', 1.78, 1.02, 'mother', 1.57, 'father', 1.75]\n",
      "sister\n"
     ]
    }
   ],
   "source": [
    "family_height = ['brother', 1.78, 'sister', 1.02, 'mother', 1.57, 'father', 1.75]\n",
    "x = family_height.pop(2)\n",
    "\n",
    "print(family_height)\n",
    "print(x)\n",
    "\n"
   ]
  },
  {
   "attachments": {},
   "cell_type": "markdown",
   "metadata": {},
   "source": [
    "`pop` modifies the list and returns the element that was removed. If you don’t provide an index, it deletes and returns the last element.\n",
    "\n",
    "If you don’t need the removed value, you can use the `del` statement."
   ]
  },
  {
   "cell_type": "code",
   "execution_count": 49,
   "metadata": {},
   "outputs": [],
   "source": [
    "family_height = ['brother', 1.78, 'sister', 1.02, 'mother', 1.57, 'father', 1.75]\n",
    "del family_height[2]  # 'sister'\n"
   ]
  },
  {
   "attachments": {},
   "cell_type": "markdown",
   "metadata": {},
   "source": [
    "Because you've removed an *index(2)*, all elements that came after *\"sister\"* moved over (to left) by one index."
   ]
  },
  {
   "cell_type": "code",
   "execution_count": 50,
   "metadata": {},
   "outputs": [
    {
     "name": "stdout",
     "output_type": "stream",
     "text": [
      "['brother', 1.78, 1.02, 'mother', 1.57, 'father', 1.75]\n"
     ]
    }
   ],
   "source": [
    "print(family_height)\n"
   ]
  },
  {
   "attachments": {},
   "cell_type": "markdown",
   "metadata": {},
   "source": [
    "If you run the same line again, you're again removing the element at index 2, which is sister's height i.e: 1.02 meters"
   ]
  },
  {
   "cell_type": "code",
   "execution_count": 51,
   "metadata": {},
   "outputs": [
    {
     "name": "stdout",
     "output_type": "stream",
     "text": [
      "['brother', 1.78, 'mother', 1.57, 'father', 1.75]\n"
     ]
    }
   ],
   "source": [
    "del family_height[2]  # 1.02\n",
    "print(family_height)"
   ]
  },
  {
   "attachments": {},
   "cell_type": "markdown",
   "metadata": {},
   "source": [
    "You can also delete a *`slice of a list`*. "
   ]
  },
  {
   "cell_type": "code",
   "execution_count": 52,
   "metadata": {},
   "outputs": [
    {
     "name": "stdout",
     "output_type": "stream",
     "text": [
      "['brother', 1.78, 'sister', 1.02, 'father', 1.75]\n"
     ]
    }
   ],
   "source": [
    "family_height = ['brother', 1.78, 'sister', 1.02, 'mother', 1.57, 'father', 1.75]\n",
    "del family_height[-4:-2]  # 'mother' and 1.57\n",
    "print(family_height)"
   ]
  },
  {
   "attachments": {},
   "cell_type": "markdown",
   "metadata": {},
   "source": [
    "If you know the element you want to remove (but not the index), you can use `remove`:"
   ]
  },
  {
   "cell_type": "code",
   "execution_count": 53,
   "metadata": {},
   "outputs": [
    {
     "name": "stdout",
     "output_type": "stream",
     "text": [
      "['brother', 1.78, 1.02, 'mother', 1.57, 'father', 1.75]\n"
     ]
    }
   ],
   "source": [
    "family_height = ['brother', 1.78, 'sister', 1.02, 'mother', 1.57, 'father', 1.75]\n",
    "family_height.remove('sister')\n",
    "print(family_height)\n"
   ]
  },
  {
   "attachments": {},
   "cell_type": "markdown",
   "metadata": {},
   "source": [
    "To clear everything in a list, we can use `clear`"
   ]
  },
  {
   "cell_type": "code",
   "execution_count": 54,
   "metadata": {},
   "outputs": [
    {
     "name": "stdout",
     "output_type": "stream",
     "text": [
      "[]\n"
     ]
    }
   ],
   "source": [
    "family_height = ['brother', 1.78, 'sister', 1.02, 'mother', 1.57, 'father', 1.75]\n",
    "family_height.clear()\n",
    "print(family_height)"
   ]
  },
  {
   "cell_type": "markdown",
   "metadata": {},
   "source": [
    "## What happens when you create a list?"
   ]
  },
  {
   "cell_type": "code",
   "execution_count": 55,
   "metadata": {},
   "outputs": [],
   "source": [
    "x = [1, 2, 3]"
   ]
  },
  {
   "attachments": {},
   "cell_type": "markdown",
   "metadata": {},
   "source": [
    "You're storing a list in your computer memory, and the `address` of that list is stored in `x`. This means that `x` does not actually contain all the list elements, it rather contains a reference to the list where as the list is in your computer memory."
   ]
  },
  {
   "cell_type": "code",
   "execution_count": 56,
   "metadata": {},
   "outputs": [
    {
     "name": "stdout",
     "output_type": "stream",
     "text": [
      "10\n"
     ]
    }
   ],
   "source": [
    "y = x\n",
    "y[2] = 10\n",
    "print(x[2])"
   ]
  },
  {
   "attachments": {},
   "cell_type": "markdown",
   "metadata": {},
   "source": [
    "When you copied `x` to `y`, you copied the reference of the list, not the actual values themselves. That's why `x[2]` is changed as well even though we made changes in `y[2]`. \n",
    "\n",
    "Both `x` and `y` point to the same list."
   ]
  },
  {
   "attachments": {},
   "cell_type": "markdown",
   "metadata": {},
   "source": [
    "If you want to create a list `y` that points to a new list in the memory with the same values, You can use the `list()` function, or use slicing to select all list elements explicitly."
   ]
  },
  {
   "attachments": {},
   "cell_type": "markdown",
   "metadata": {},
   "source": [
    "### Using `list` function to copy a list"
   ]
  },
  {
   "cell_type": "code",
   "execution_count": 57,
   "metadata": {},
   "outputs": [
    {
     "name": "stdout",
     "output_type": "stream",
     "text": [
      "x: [1, 2, 3]\n",
      "y: [1, 2, 10]\n"
     ]
    }
   ],
   "source": [
    "x = [1, 2, 3]\n",
    "y = list(x)\n",
    "y[2] = 10\n",
    "\n",
    "print(f'x: {x}')\n",
    "print(f'y: {y}')"
   ]
  },
  {
   "cell_type": "markdown",
   "metadata": {},
   "source": [
    "Change in \"y\" does not change values of \"x\" bcz values are copied instead of list's reference ."
   ]
  },
  {
   "cell_type": "markdown",
   "metadata": {},
   "source": [
    "### Using Slicing to copy a list"
   ]
  },
  {
   "cell_type": "code",
   "execution_count": 58,
   "metadata": {},
   "outputs": [
    {
     "name": "stdout",
     "output_type": "stream",
     "text": [
      "x: [1, 2, 3]\n",
      "y: [1, 2, 10]\n"
     ]
    }
   ],
   "source": [
    "x = [1, 2, 3]\n",
    "y = x[:] # Copying list values from index 0 till the last index\n",
    "y[2] = 10\n",
    "print(f'x: {x}')\n",
    "print(f'y: {y}')"
   ]
  },
  {
   "attachments": {},
   "cell_type": "markdown",
   "metadata": {},
   "source": [
    "## List Operations\n",
    "As we know already `+` operator concatenates lists:"
   ]
  },
  {
   "cell_type": "code",
   "execution_count": 59,
   "metadata": {},
   "outputs": [
    {
     "name": "stdout",
     "output_type": "stream",
     "text": [
      "[1, 2, 3, 4, 5, 6]\n"
     ]
    }
   ],
   "source": [
    "a = [1, 2, 3]\n",
    "b = [4, 5, 6]\n",
    "c = a + b\n",
    "print(c)"
   ]
  },
  {
   "attachments": {},
   "cell_type": "markdown",
   "metadata": {},
   "source": [
    "Similarly, the `*` operator repeats a list a given number of times:"
   ]
  },
  {
   "cell_type": "code",
   "execution_count": 60,
   "metadata": {},
   "outputs": [
    {
     "name": "stdout",
     "output_type": "stream",
     "text": [
      "[0, 0, 0, 0, 0]\n"
     ]
    }
   ],
   "source": [
    "zeros = [0] * 5\n",
    "print(zeros)"
   ]
  },
  {
   "cell_type": "code",
   "execution_count": 61,
   "metadata": {},
   "outputs": [
    {
     "name": "stdout",
     "output_type": "stream",
     "text": [
      "[1, 2, 3, 1, 2, 3, 1, 2, 3]\n"
     ]
    }
   ],
   "source": [
    "repeating_numbers = [1, 2, 3] * 3\n",
    "print(repeating_numbers)"
   ]
  },
  {
   "attachments": {},
   "cell_type": "markdown",
   "metadata": {},
   "source": [
    "The `in` operator also works on lists."
   ]
  },
  {
   "cell_type": "code",
   "execution_count": 62,
   "metadata": {},
   "outputs": [
    {
     "name": "stdout",
     "output_type": "stream",
     "text": [
      "True\n",
      "False\n"
     ]
    }
   ],
   "source": [
    "cheeses = ['Cheddar', 'Edam', 'Gouda']\n",
    "print('Edam' in cheeses)\n",
    "print('Brie' in cheeses)"
   ]
  },
  {
   "attachments": {},
   "cell_type": "markdown",
   "metadata": {},
   "source": [
    "## List Unpacking\n",
    "\n",
    "There are times when we want to get individual items in the list and assign them to different variables, like:"
   ]
  },
  {
   "cell_type": "code",
   "execution_count": 63,
   "metadata": {},
   "outputs": [
    {
     "name": "stdout",
     "output_type": "stream",
     "text": [
      "1 2 3\n"
     ]
    }
   ],
   "source": [
    "numbers = list(range(1,4))\n",
    "first = numbers[0]\n",
    "second = numbers[1]\n",
    "third = numbers[2]\n",
    "\n",
    "print(first, second, third)\n"
   ]
  },
  {
   "attachments": {},
   "cell_type": "markdown",
   "metadata": {},
   "source": [
    "There is a cleaner way to achieve the same result as before through list unpacking.\n",
    "\n",
    "To unpack a list into multiple variables"
   ]
  },
  {
   "cell_type": "code",
   "execution_count": 64,
   "metadata": {},
   "outputs": [
    {
     "name": "stdout",
     "output_type": "stream",
     "text": [
      "1 2 3\n"
     ]
    }
   ],
   "source": [
    "first, second, third =  numbers\n",
    "print(first, second, third)"
   ]
  },
  {
   "attachments": {},
   "cell_type": "markdown",
   "metadata": {},
   "source": [
    "`CONDITION: ` the number of variables we have on the left side of the assignment operator must be equal to the number of items we have in a list."
   ]
  },
  {
   "attachments": {},
   "cell_type": "markdown",
   "metadata": {},
   "source": [
    "What if we have so many items in a list and we want only first three items of the list."
   ]
  },
  {
   "cell_type": "code",
   "execution_count": 65,
   "metadata": {},
   "outputs": [
    {
     "name": "stdout",
     "output_type": "stream",
     "text": [
      "1 2 3 [4, 5, 6, 7, 8, 9, 10, 11, 12, 13, 14, 15, 16, 17, 18, 19, 20]\n"
     ]
    }
   ],
   "source": [
    "numbers = list(range(1,21))\n",
    "\n",
    "first, second, third, *others = numbers \n",
    "print(first, second, third, others)"
   ]
  },
  {
   "attachments": {},
   "cell_type": "markdown",
   "metadata": {},
   "source": [
    "All the other elements beside first three elements are stored in a seperate list called `others`.\n",
    "\n",
    "What if we want few elements from beginning and end of the list."
   ]
  },
  {
   "cell_type": "code",
   "execution_count": 66,
   "metadata": {},
   "outputs": [
    {
     "name": "stdout",
     "output_type": "stream",
     "text": [
      "1 2 [3, 4, 5, 6, 7, 8, 9, 10, 11, 12, 13, 14, 15, 16, 17, 18, 19] 20\n"
     ]
    }
   ],
   "source": [
    "numbers = list(range(1,21))\n",
    "\n",
    "first, second, *others, last = numbers\n",
    "print(first, second, others, last)"
   ]
  },
  {
   "attachments": {},
   "cell_type": "markdown",
   "metadata": {},
   "source": [
    "## Traversing a List\n",
    "The most common way to traverse the elements of a list is with a `for` loop. The syntax is the same as for strings:"
   ]
  },
  {
   "cell_type": "code",
   "execution_count": 67,
   "metadata": {},
   "outputs": [
    {
     "name": "stdout",
     "output_type": "stream",
     "text": [
      "45\n",
      "59\n",
      "-12\n",
      "13\n"
     ]
    }
   ],
   "source": [
    "for number in [45, 59, -12, 13]:\n",
    "    print(number)"
   ]
  },
  {
   "cell_type": "code",
   "execution_count": 68,
   "metadata": {},
   "outputs": [
    {
     "name": "stdout",
     "output_type": "stream",
     "text": [
      "H\n",
      "e\n",
      "l\n",
      "l\n",
      "o\n",
      " \n",
      "W\n",
      "o\n",
      "r\n",
      "l\n",
      "d\n",
      "!\n"
     ]
    }
   ],
   "source": [
    "letters = list(\"Hello World!\")\n",
    "for char in letters:\n",
    "    print(char) "
   ]
  },
  {
   "attachments": {},
   "cell_type": "markdown",
   "metadata": {},
   "source": [
    "What if we want the index of each element in the list. We use `enumerate` function for this purpose.\n",
    "\n"
   ]
  },
  {
   "cell_type": "code",
   "execution_count": 69,
   "metadata": {},
   "outputs": [
    {
     "name": "stdout",
     "output_type": "stream",
     "text": [
      "(0, 'H')\n",
      "(1, 'e')\n",
      "(2, 'l')\n",
      "(3, 'l')\n",
      "(4, 'o')\n",
      "(5, '!')\n"
     ]
    }
   ],
   "source": [
    "letters = list(\"Hello!\")\n",
    "for char in enumerate(letters):\n",
    "    print(char)"
   ]
  },
  {
   "attachments": {},
   "cell_type": "markdown",
   "metadata": {},
   "source": [
    "In each iteration we are getting a tupal. Tuple is like a list but it is read-only. Each tupal have two items (index, list item). \n",
    "\n",
    "To get the `index` only we can use square brackets to access the 1st item of a tuple, like:"
   ]
  },
  {
   "cell_type": "code",
   "execution_count": 87,
   "metadata": {},
   "outputs": [
    {
     "name": "stdout",
     "output_type": "stream",
     "text": [
      "0\n",
      "1\n",
      "2\n",
      "3\n",
      "4\n",
      "5\n"
     ]
    }
   ],
   "source": [
    "letters = list(\"Hello!\")\n",
    "for char in enumerate(letters):\n",
    "    print(char[0])"
   ]
  },
  {
   "attachments": {},
   "cell_type": "markdown",
   "metadata": {},
   "source": [
    "We can also use list unpacking (also works with the tuple) feature to get index and element of the list."
   ]
  },
  {
   "cell_type": "code",
   "execution_count": 71,
   "metadata": {},
   "outputs": [
    {
     "name": "stdout",
     "output_type": "stream",
     "text": [
      "0 H\n",
      "1 e\n",
      "2 l\n",
      "3 l\n",
      "4 o\n",
      "5 !\n"
     ]
    }
   ],
   "source": [
    "letters = list(\"Hello!\")\n",
    "for ind, char in enumerate(letters):\n",
    "    print(ind, char)"
   ]
  },
  {
   "attachments": {},
   "cell_type": "markdown",
   "metadata": {},
   "source": [
    "At each iteration a tuple will be generated containing an index and element. We know that 1st element of a tuple is index of a list, and 2nd element of a tuple is the element at that index. With list unpacking index will be equal to `ind`, and char will be equal to `char`."
   ]
  },
  {
   "attachments": {},
   "cell_type": "markdown",
   "metadata": {},
   "source": [
    "This works well if you only need to read the elements of the list. But if you want to write or update the elements, you need the indices. A common way to do that is to combine the functions `range` and `len`. Let's assume we want to take a square of elements in a list."
   ]
  },
  {
   "cell_type": "code",
   "execution_count": 72,
   "metadata": {},
   "outputs": [
    {
     "name": "stdout",
     "output_type": "stream",
     "text": [
      "[4, 8, 12, 16]\n"
     ]
    }
   ],
   "source": [
    "numbers = [2, 4, 6, 8]\n",
    "for i in range(len(numbers)):\n",
    "    numbers[i] = numbers[i] * 2\n",
    "\n",
    "print(numbers)\n"
   ]
  },
  {
   "attachments": {},
   "cell_type": "markdown",
   "metadata": {},
   "source": [
    "This loop traverses the list and updates each element. `len` returns the number of elements in the list. `range` returns a list of indices from *0* to *n − 1*, where *n* is the length of the list. Each time through the loop, `i` gets the index of the next element. The assignment statement in the body uses `i` to read the old value of the element and to assign the new value."
   ]
  },
  {
   "attachments": {},
   "cell_type": "markdown",
   "metadata": {},
   "source": [
    "## Sorting a List\n",
    "Let's assume we have a list with a bunch of numbers that are not in any particular order. To sort this list we can use `sort` method."
   ]
  },
  {
   "cell_type": "code",
   "execution_count": 4,
   "metadata": {},
   "outputs": [
    {
     "name": "stdout",
     "output_type": "stream",
     "text": [
      "[-12, 2, 3, 7, 10, 51, 81]\n"
     ]
    }
   ],
   "source": [
    "numbers = [3, 51, 7, -12, 81, 2, 10]\n",
    "numbers.sort()\n",
    "print(numbers)"
   ]
  },
  {
   "attachments": {},
   "cell_type": "markdown",
   "metadata": {},
   "source": [
    "To sort the list in descending order, we can set the value of `reverse` parameter to `True`."
   ]
  },
  {
   "cell_type": "code",
   "execution_count": 5,
   "metadata": {},
   "outputs": [
    {
     "name": "stdout",
     "output_type": "stream",
     "text": [
      "[81, 51, 10, 7, 3, 2, -12]\n"
     ]
    }
   ],
   "source": [
    "numbers.sort(reverse=True)\n",
    "print(numbers)"
   ]
  },
  {
   "attachments": {},
   "cell_type": "markdown",
   "metadata": {},
   "source": [
    "In addition to the `sort` method we have a built-in function called `sorted`. It takes an iterable as an argument. "
   ]
  },
  {
   "cell_type": "code",
   "execution_count": 6,
   "metadata": {},
   "outputs": [
    {
     "name": "stdout",
     "output_type": "stream",
     "text": [
      "[-12, 2, 3, 7, 10, 51, 81]\n",
      "[81, 51, 10, 7, 3, 2, -12]\n"
     ]
    }
   ],
   "source": [
    "numbers = [3, 51, 7, -12, 81, 2, 10]\n",
    "asc = sorted(numbers)\n",
    "desc = sorted(numbers, reverse=True)\n",
    "\n",
    "print(asc)\n",
    "print(desc)"
   ]
  },
  {
   "attachments": {},
   "cell_type": "markdown",
   "metadata": {},
   "source": [
    "This method `returns a new list` instead of modifying the original one."
   ]
  },
  {
   "attachments": {},
   "cell_type": "markdown",
   "metadata": {},
   "source": [
    "### Sorting list of complex objects.\n",
    "\n",
    "Let's assume we have a list of orders and each order have a product name and it's price. In other words we have a list of tuples. We can also use lists but we are using tuples because they're read-only and we do not intend to modify the original list."
   ]
  },
  {
   "cell_type": "code",
   "execution_count": 8,
   "metadata": {},
   "outputs": [],
   "source": [
    "order_items = [\n",
    "    ('Product 1', 31), \n",
    "    ('Product 2', 54), \n",
    "    ('Product 3', 9), \n",
    "    ('Product 4', 11), \n",
    "]"
   ]
  },
  {
   "attachments": {},
   "cell_type": "markdown",
   "metadata": {},
   "source": [
    "We want to sort this list according to it's price. We cannot use `sort` method in this situation, because it will not generate desired results"
   ]
  },
  {
   "cell_type": "code",
   "execution_count": 9,
   "metadata": {},
   "outputs": [
    {
     "name": "stdout",
     "output_type": "stream",
     "text": [
      "[('Product 1', 31), ('Product 2', 54), ('Product 3', 9), ('Product 4', 11)]\n"
     ]
    }
   ],
   "source": [
    "order_items.sort()\n",
    "print(order_items)"
   ]
  },
  {
   "attachments": {},
   "cell_type": "markdown",
   "metadata": {},
   "source": [
    "See we didn't get a sorted list according to it's price. \n",
    "#### Defining a `function` for sorting\n",
    "We need to `define a function` that python will use `for sorting` this list."
   ]
  },
  {
   "cell_type": "code",
   "execution_count": 14,
   "metadata": {},
   "outputs": [],
   "source": [
    "# sorting items based upon their price\n",
    "def sort_item(item):\n",
    "    return item[1]"
   ]
  },
  {
   "attachments": {},
   "cell_type": "markdown",
   "metadata": {},
   "source": [
    "Function `sort_items()` takes a tuple of a list as an argument, and returns the price. Now Python is dealing with a list of numbers (price), so it can easily sort them."
   ]
  },
  {
   "cell_type": "code",
   "execution_count": null,
   "metadata": {},
   "outputs": [],
   "source": [
    "\n",
    "items = [\n",
    "    ('Product 1', 31), \n",
    "    ('Product 2', 54), \n",
    "    ('Product 3', 9), \n",
    "    ('Product 4', 11), \n",
    "]\n",
    "items.sort(key=sort_item)\n",
    "print(items)"
   ]
  },
  {
   "attachments": {},
   "cell_type": "markdown",
   "metadata": {},
   "source": [
    "Finally we passed the function `sort_item` as an argument in `sort` method of the list. \n",
    "\n",
    "The first parameter of `sort` method is `key`, that is where we passed the sorting function (`sort_item`). Note that we didn't call the function, we only passed the reference of the function.\n",
    "\n",
    "When python attempts to sort the list (items), it gets each item (tuple) and it will pass it to our `sort_item` function. \n",
    "\n",
    "#### `lambda` Function\n",
    "\n",
    "Our implementation of `sort_item` function is a little bit ugly, there is a better approach using `lambda function`. It is basically a simple `one line anonymous function` that we can pass to another function. \n",
    "\n",
    "We can use the lambda function as an argumnet in `sort` method, and make it cleaner. This way do not have to define a function like `sort_item` function.\n",
    "\n",
    "The syntax for writing a lambda function is like this\n",
    "\n",
    "items.`sort` ( *key* = `lambda` *parameters* `:` *expression* )\n",
    "\n",
    "* Parameter in `sort_item` function is *`item`*.\n",
    "\n",
    "* Expression in `sort_item` function is *`return item[1]`*\n",
    "\n",
    "Using this syntax we can write the `lambda function` as:\n"
   ]
  },
  {
   "cell_type": "code",
   "execution_count": 15,
   "metadata": {},
   "outputs": [
    {
     "name": "stdout",
     "output_type": "stream",
     "text": [
      "[('Product 3', 9), ('Product 4', 11), ('Product 1', 31), ('Product 2', 54)]\n"
     ]
    }
   ],
   "source": [
    "items = [\n",
    "    ('Product 1', 31), \n",
    "    ('Product 2', 54), \n",
    "    ('Product 3', 9), \n",
    "    ('Product 4', 11), \n",
    "]\n",
    "\n",
    "items.sort(key = lambda item: item[1]) # (key = lambda parameters : expression)\n",
    "print(items)"
   ]
  },
  {
   "attachments": {},
   "cell_type": "markdown",
   "metadata": {},
   "source": [
    "By using a lambda function we don't need to use the `return` statement. \n",
    "\n",
    "`Lambda function` is indeed a shorter and cleaner way to define a function that we are going to use only once as an argumnet to another function."
   ]
  },
  {
   "attachments": {},
   "cell_type": "markdown",
   "metadata": {},
   "source": [
    "## `map` Function\n",
    "\n",
    "Imagine we want to transfer our `order_items` list into something different. Currently each item in `order_items` list is a tuple containing *product_name*, and its *price*.\n",
    "\n",
    "Let's say we are only intrested in the prices of each order. We want to transform `order_items` list into a list of prices.\n",
    "\n",
    "To achieve that we can do something like this:"
   ]
  },
  {
   "cell_type": "code",
   "execution_count": 16,
   "metadata": {},
   "outputs": [
    {
     "name": "stdout",
     "output_type": "stream",
     "text": [
      "[31, 54, 9, 11]\n"
     ]
    }
   ],
   "source": [
    "prices = []\n",
    "\n",
    "order_items = [\n",
    "    ('Product 1', 31), \n",
    "    ('Product 2', 54), \n",
    "    ('Product 3', 9), \n",
    "    ('Product 4', 11), \n",
    "]\n",
    "\n",
    "\n",
    "for item in order_items:\n",
    "    prices.append(item[1])\n",
    "\n",
    "print(prices) "
   ]
  },
  {
   "attachments": {},
   "cell_type": "markdown",
   "metadata": {},
   "source": [
    "There is another eay to achieve the same result using *`map`* function.\n",
    "\n",
    "`map` function require at least two arguments i.e. a function, and one or more iterables.\n",
    "\n",
    "* As a 1st argument we can pass the `lambda` function.\n",
    "* As a 2nd argument we can pass the `order_items` list ."
   ]
  },
  {
   "cell_type": "code",
   "execution_count": 19,
   "metadata": {},
   "outputs": [
    {
     "name": "stdout",
     "output_type": "stream",
     "text": [
      "<map object at 0x000002024E12C1C0>\n"
     ]
    }
   ],
   "source": [
    "order_items = [\n",
    "    ('Product 1', 31), \n",
    "    ('Product 2', 54), \n",
    "    ('Product 3', 9), \n",
    "    ('Product 4', 11), \n",
    "]\n",
    "\n",
    "order_prices = map(lambda item:item[1], order_items)\n",
    "print(order_prices)"
   ]
  },
  {
   "attachments": {},
   "cell_type": "markdown",
   "metadata": {},
   "source": [
    "`map` functin will iterate over `order_items` list. It will call `lambda` function on each `item` of `order_items` list.\n",
    "\n",
    "`map` function returns the *map* object, which is another iterable. So we can convert the *map* object into a list using `list` function which require an iterable."
   ]
  },
  {
   "cell_type": "code",
   "execution_count": 20,
   "metadata": {},
   "outputs": [
    {
     "name": "stdout",
     "output_type": "stream",
     "text": [
      "[31, 54, 9, 11]\n"
     ]
    }
   ],
   "source": [
    "order_items = [\n",
    "    ('Product 1', 31), \n",
    "    ('Product 2', 54), \n",
    "    ('Product 3', 9), \n",
    "    ('Product 4', 11), \n",
    "]\n",
    "\n",
    "order_prices = map((lambda item:item[1]), order_items)\n",
    "order_prices_list = list(order_prices)\n",
    "print(order_prices_list)"
   ]
  },
  {
   "attachments": {},
   "cell_type": "markdown",
   "metadata": {},
   "source": [
    "## `filter` Function\n",
    "\n",
    "Let's say we wanna filter `order_items` and get the orders whose *price* is greater than 10$.\n",
    "\n",
    "We can use `filter` function. It is same as `map` function, instead of transformation it filters the object based upon conditions.\n",
    "\n"
   ]
  },
  {
   "cell_type": "code",
   "execution_count": 22,
   "metadata": {},
   "outputs": [
    {
     "name": "stdout",
     "output_type": "stream",
     "text": [
      "[('Product 1', 31), ('Product 2', 54), ('Product 4', 11)]\n"
     ]
    }
   ],
   "source": [
    "order_items = [\n",
    "    ('Product 1', 31), \n",
    "    ('Product 2', 54), \n",
    "    ('Product 3', 9), \n",
    "    ('Product 4', 11), \n",
    "]\n",
    "\n",
    "filtered_orders_list = list(filter((lambda order: order[1] > 10), order_items))\n",
    "print(filtered_orders_list)"
   ]
  },
  {
   "attachments": {},
   "cell_type": "markdown",
   "metadata": {},
   "source": [
    "For each Iteration, if condition (*orders_price > 10*) is true for an item then it will be returned else None will be returned"
   ]
  },
  {
   "attachments": {},
   "cell_type": "markdown",
   "metadata": {},
   "source": [
    "## List Comprehensions\n",
    "List comprehensions are an elegant way to build a list without having to use different for loops to append values one by one.\n",
    "\n",
    "[ *expression* (involving loop variable) **`for`** *iterVar* **`in`** *sequence* ]\n",
    "\n",
    "This will step over every element in a *sequence*, successively setting the *loop-variable* (iterVal) equal to every element one at a time. It will then build up a list by evaluating the *expression* (involving loop variable) for each one. \n",
    "\n",
    "This eliminates the need to use `lambda forms` and generally produces a much more readable code than using `map()` and a more compact code than using a `for`-loop.\n",
    "\n",
    " "
   ]
  },
  {
   "cell_type": "code",
   "execution_count": 24,
   "metadata": {},
   "outputs": [
    {
     "name": "stdout",
     "output_type": "stream",
     "text": [
      "[0, 1, 2, 3, 4, 5, 6, 7, 8, 9]\n"
     ]
    }
   ],
   "source": [
    "list_of_numbers = [ x for x in range(10) ] # List of integers from 0 to 9\n",
    "print(list_of_numbers)"
   ]
  },
  {
   "attachments": {},
   "cell_type": "markdown",
   "metadata": {},
   "source": [
    "Above code is equivalent to code:"
   ]
  },
  {
   "cell_type": "code",
   "execution_count": 25,
   "metadata": {},
   "outputs": [
    {
     "name": "stdout",
     "output_type": "stream",
     "text": [
      "[0, 1, 2, 3, 4, 5, 6, 7, 8, 9]\n"
     ]
    }
   ],
   "source": [
    "numbers = []\n",
    "for number in range(10):\n",
    "    numbers.append(number)\n",
    "\n",
    "print(numbers)"
   ]
  },
  {
   "attachments": {
    "image.png": {
     "image/png": "[encoded data removed]"
    }
   },
   "cell_type": "markdown",
   "metadata": {},
   "source": [
    "### Nested List Comprehensions\n",
    "\n",
    "They take the following form:\n",
    "\n",
    "[ *expression* (involving loop variables) **`for`** *Outer loop iterVar* **`in`** *Outer loop sequence* **`for`** *Inner loop iterVar* **`in`** *Inner loop sequence*]\n",
    "\n",
    "This is equivalent to writing:\n",
    "\n",
    "![image.png](attachment:image.png)\n",
    "\n",
    "For example, if you want to generate all combinations of lists [1, 2, 3] and [4, 5, 6] in a list of tuples, you can write like:\n"
   ]
  },
  {
   "cell_type": "code",
   "execution_count": 26,
   "metadata": {},
   "outputs": [
    {
     "name": "stdout",
     "output_type": "stream",
     "text": [
      "[(1, 4), (1, 5), (1, 6), (2, 4), (2, 5), (2, 6), (3, 4), (3, 5), (3, 6)]\n"
     ]
    }
   ],
   "source": [
    "print([(x,y) for x in [1, 2, 3] for y in [4, 5, 6]])"
   ]
  },
  {
   "attachments": {},
   "cell_type": "markdown",
   "metadata": {},
   "source": [
    "This is equivalent to:"
   ]
  },
  {
   "cell_type": "code",
   "execution_count": 27,
   "metadata": {},
   "outputs": [
    {
     "name": "stdout",
     "output_type": "stream",
     "text": [
      "[(1, 4), (1, 5), (1, 6), (2, 4), (2, 5), (2, 6), (3, 4), (3, 5), (3, 6)]\n"
     ]
    }
   ],
   "source": [
    "results = []\n",
    "for x in [1, 2, 3]:\n",
    "    for y in [4, 5, 6]:\n",
    "        results.append((x, y))\n",
    "\n",
    "print(results)"
   ]
  },
  {
   "attachments": {},
   "cell_type": "markdown",
   "metadata": {},
   "source": [
    "### Conditionals in List Comprehension\n",
    "\n",
    "The final form of list comprehension involves creating a list and filtering it similar to using the *`filter()`* function. The filtering form of list comprehension takes the following form:\n",
    "\n",
    "[ *expression* (involving loop variable) **`for`** *Outer loop iterVar* **`in`** *Outer loop sequence* **`if`** *boolean expression* (involving loop variable)]\n",
    "\n",
    "This form is similar to the simple form of list comprehension, but it evaluates *boolean expression* for every item. It also only keeps those elements for which the *boolean expression* is `True`.\n",
    "\n"
   ]
  },
  {
   "cell_type": "code",
   "execution_count": 28,
   "metadata": {},
   "outputs": [
    {
     "name": "stdout",
     "output_type": "stream",
     "text": [
      "[0, 3, 6, 9]\n"
     ]
    }
   ],
   "source": [
    "multiple_of_3 =  [x for x in range(10) if x % 3 == 0] # Multiples of 3 below 10\n",
    "\n",
    "print(multiple_of_3)"
   ]
  },
  {
   "attachments": {},
   "cell_type": "markdown",
   "metadata": {},
   "source": [
    "The code below is an example we used in `map` and `filter` function, rewrite it using list comprehension, so that you can compare it for better understanding."
   ]
  },
  {
   "cell_type": "code",
   "execution_count": 29,
   "metadata": {},
   "outputs": [
    {
     "name": "stdout",
     "output_type": "stream",
     "text": [
      "[31, 54, 9, 11]\n",
      "[('Product 1', 31), ('Product 2', 54), ('Product 4', 11)]\n"
     ]
    }
   ],
   "source": [
    "order_items = [\n",
    "    ('Product 1', 31), \n",
    "    ('Product 2', 54), \n",
    "    ('Product 3', 9), \n",
    "    ('Product 4', 11), \n",
    "]\n",
    "\n",
    "prices = list(map((lambda item:item[1]), order_items))\n",
    "print(prices)\n",
    "\n",
    "filtered = list(filter((lambda order: order[1] > 10), order_items))\n",
    "print(filtered)"
   ]
  },
  {
   "attachments": {},
   "cell_type": "markdown",
   "metadata": {},
   "source": [
    "Using List Comprehension"
   ]
  },
  {
   "cell_type": "code",
   "execution_count": 31,
   "metadata": {},
   "outputs": [
    {
     "name": "stdout",
     "output_type": "stream",
     "text": [
      "[31, 54, 9, 11]\n",
      "[('Product 1', 31), ('Product 2', 54), ('Product 4', 11)]\n"
     ]
    }
   ],
   "source": [
    "order_items = [\n",
    "    ('Product 1', 31), \n",
    "    ('Product 2', 54), \n",
    "    ('Product 3', 9), \n",
    "    ('Product 4', 11), \n",
    "]\n",
    "\n",
    "prices = [item[1] for item in order_items]\n",
    "print(prices)\n",
    "\n",
    "filtered = [item for item in order_items if item[1] > 10]\n",
    "print(filtered)"
   ]
  },
  {
   "attachments": {},
   "cell_type": "markdown",
   "metadata": {},
   "source": [
    "Using list comprehension is like coding in plain english"
   ]
  },
  {
   "attachments": {},
   "cell_type": "markdown",
   "metadata": {},
   "source": [
    "## `zip` Function\n",
    "\n",
    "The `zip()` function takes iterables (can be zero or more), aggregates them in a tuple, and returns it.\n",
    "\n",
    "*`zip(*iterables)`*\n",
    "\n",
    "The zip() function returns an iterator of tuples based on the iterable objects.\n",
    "\n",
    "* If we do not pass any parameter, zip() returns an empty iterator\n",
    "\n",
    "* If a single iterable is passed, zip() returns an iterator of tuples with each tuple having only one element.\n",
    "\n",
    "* If multiple iterables are passed, zip() returns an iterator of tuples with each tuple having elements from all the iterables.\n",
    "\n"
   ]
  },
  {
   "cell_type": "code",
   "execution_count": 32,
   "metadata": {},
   "outputs": [
    {
     "name": "stdout",
     "output_type": "stream",
     "text": [
      "[('Java', 14), ('Python', 3), ('JavaScript', 6)]\n"
     ]
    }
   ],
   "source": [
    "languages = ['Java', 'Python', 'JavaScript']\n",
    "versions = [14, 3, 6]\n",
    "\n",
    "result = zip(languages, versions)\n",
    "print(list(result))"
   ]
  },
  {
   "attachments": {},
   "cell_type": "markdown",
   "metadata": {},
   "source": [
    "The `*` operator can be used in conjunction with zip() to unzip the list."
   ]
  },
  {
   "cell_type": "code",
   "execution_count": 33,
   "metadata": {},
   "outputs": [
    {
     "name": "stdout",
     "output_type": "stream",
     "text": [
      "[('x', 3), ('y', 4), ('z', 5)]\n",
      "c = ('x', 'y', 'z')\n",
      "v = (3, 4, 5)\n"
     ]
    }
   ],
   "source": [
    "coordinate = ['x', 'y', 'z']\n",
    "value = [3, 4, 5]\n",
    "\n",
    "result = zip(coordinate, value)\n",
    "result_list = list(result)\n",
    "print(result_list)\n",
    "\n",
    "c, v =  zip(*result_list)\n",
    "print('c =', c)\n",
    "print('v =', v)"
   ]
  }
 ],
 "metadata": {
  "kernelspec": {
   "display_name": "base",
   "language": "python",
   "name": "python3"
  },
  "language_info": {
   "codemirror_mode": {
    "name": "ipython",
    "version": 3
   },
   "file_extension": ".py",
   "mimetype": "text/x-python",
   "name": "python",
   "nbconvert_exporter": "python",
   "pygments_lexer": "ipython3",
   "version": "3.9.13"
  },
  "orig_nbformat": 4
 },
 "nbformat": 4,
 "nbformat_minor": 2
}
