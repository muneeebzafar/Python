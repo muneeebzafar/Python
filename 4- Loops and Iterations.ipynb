{
 "cells": [
  {
   "attachments": {},
   "cell_type": "markdown",
   "metadata": {},
   "source": [
    "# Loops and Iterations"
   ]
  },
  {
   "attachments": {},
   "cell_type": "markdown",
   "metadata": {},
   "source": [
    "## Updating Variables\n",
    "A common pattern in assignment statements is an assignment statement that updates a variable, where the new value of the variable depends on the old."
   ]
  },
  {
   "cell_type": "code",
   "execution_count": null,
   "metadata": {},
   "outputs": [],
   "source": [
    "x = x + 1"
   ]
  },
  {
   "attachments": {},
   "cell_type": "markdown",
   "metadata": {},
   "source": [
    "This means “get the current value of `x`, add 1, and then update `x` with the new value.”\n",
    "\n",
    "If you try to update a variable that doesn’t exist, you get an error, because Python evaluates the right side before it assigns a value to `x`:"
   ]
  },
  {
   "cell_type": "code",
   "execution_count": 2,
   "metadata": {},
   "outputs": [
    {
     "ename": "NameError",
     "evalue": "name 'x' is not defined",
     "output_type": "error",
     "traceback": [
      "\u001b[1;31m---------------------------------------------------------------------------\u001b[0m",
      "\u001b[1;31mNameError\u001b[0m                                 Traceback (most recent call last)",
      "\u001b[1;32m~\\AppData\\Local\\Temp\\ipykernel_1104\\381015178.py\u001b[0m in \u001b[0;36m<module>\u001b[1;34m\u001b[0m\n\u001b[1;32m----> 1\u001b[1;33m \u001b[0mx\u001b[0m \u001b[1;33m=\u001b[0m \u001b[0mx\u001b[0m \u001b[1;33m+\u001b[0m \u001b[1;36m1\u001b[0m\u001b[1;33m\u001b[0m\u001b[1;33m\u001b[0m\u001b[0m\n\u001b[0m",
      "\u001b[1;31mNameError\u001b[0m: name 'x' is not defined"
     ]
    }
   ],
   "source": [
    "x = x + 1"
   ]
  },
  {
   "attachments": {},
   "cell_type": "markdown",
   "metadata": {},
   "source": [
    "Before you can update a variable, you have to *initialize* it, usually with a simple assignment:"
   ]
  },
  {
   "cell_type": "code",
   "execution_count": null,
   "metadata": {},
   "outputs": [],
   "source": [
    "x = 0\n",
    "x = x + 1"
   ]
  },
  {
   "attachments": {},
   "cell_type": "markdown",
   "metadata": {},
   "source": [
    "Updating a variable by adding 1 is called an *increment*; subtracting 1 is called a *decrement*."
   ]
  },
  {
   "attachments": {},
   "cell_type": "markdown",
   "metadata": {},
   "source": [
    "## The `while` statement\n",
    "omputers are often used to automate repetitive tasks. Because iteration is so common, Python provides several language features to make it easier.\n",
    "\n",
    "One form of iteration in Python is the `while` statement. `while` continous as long as a condtition is `True`.\n",
    "\n",
    "Here is a simple program that counts down from five."
   ]
  },
  {
   "cell_type": "code",
   "execution_count": 3,
   "metadata": {},
   "outputs": [
    {
     "name": "stdout",
     "output_type": "stream",
     "text": [
      "5\n",
      "4\n",
      "3\n",
      "2\n",
      "1\n",
      "while ended\n"
     ]
    }
   ],
   "source": [
    "n = 5\n",
    "while n > 0:\n",
    "    print(n)\n",
    "    n = n - 1\n",
    "print('while ended')"
   ]
  },
  {
   "attachments": {},
   "cell_type": "markdown",
   "metadata": {},
   "source": [
    "You can almost read the `while` statement as if it were English. It means, “While `n` is greater than 0, display the value of `n` and then reduce the value of `n` by 1. When you get to 0, exit the `while `statement.\n",
    "\n",
    "Here is the **`flow of execution`** for a while statement:\n",
    "\n",
    "1) Evaluate the condition, yielding `True` or `False`.\n",
    "\n",
    "2) If the condition is false, exit the `while` statement and continue execution at the next statement.\n",
    "\n",
    "3) If the condition is true, execute the body and then go back to step 1.\n",
    "\n",
    "This type of flow is called a *loop* because the third step loops back around to the top. We call each time we execute the body of the loop an *iteration*. For the above loop, we would say, “It had five iterations”, which means that the body of the loop was executed five times.\n",
    "\n",
    "The body of the loop should change the value of one or more variables so that eventually the condition becomes false and the loop terminates. We call the variable that changes each time the loop executes and controls when the loop finishes the *iteration variable*. If there is no iteration variable, the loop will repeat forever, resulting in an *infinite loop*."
   ]
  },
  {
   "attachments": {},
   "cell_type": "markdown",
   "metadata": {},
   "source": [
    "## Infinite Loops\n",
    "A loop that repeats forever, is called *infinite loop*. In infinite loop there is no *iteration variable* telling you how many times to execute the loop. \n",
    "\n",
    "In the case of `countdown`, we can prove that the loop terminates because we know that the value of `n` is finite, and we can see that the value of `n` gets smaller each time through the loop, so eventually we have to get to 0. Other times a loop is obviously infinite because it has no iteration variable at all.\n",
    "\n",
    "This loop is obviously an infinite loop because the logical expression on the `while` statement is simply the logical constant `True`:\n",
    "\n",
    "\n"
   ]
  },
  {
   "cell_type": "code",
   "execution_count": null,
   "metadata": {},
   "outputs": [],
   "source": [
    "n = 10\n",
    "while True:\n",
    "    print(n, end=' ')\n",
    "    n = n - 1\n",
    "print('Done!')"
   ]
  },
  {
   "attachments": {},
   "cell_type": "markdown",
   "metadata": {},
   "source": [
    "This program will run forever or until your battery runs out because the logical expression at the top of the loop is always true by virtue of the fact that the expression is the constant value `True`.\n",
    "\n",
    "### `break` Statement\n",
    "While this is a dysfunctional infinite loop, we can still use this pattern to build useful loops as long as we carefully add code to the body of the loop to explicitly exit the loop using `break` when we have reached the exit condition."
   ]
  },
  {
   "cell_type": "code",
   "execution_count": 4,
   "metadata": {},
   "outputs": [
    {
     "name": "stdout",
     "output_type": "stream",
     "text": [
      "ECHO:  12\n",
      "ECHO:  12\n",
      "ECHO:  \n",
      "ECHO:  32\n",
      "ECHO:  hello\n",
      "Done!\n"
     ]
    }
   ],
   "source": [
    "command = ''\n",
    "while True:\n",
    "    command = input('>>> ')\n",
    "    if command.lower() == 'quit':\n",
    "        break\n",
    "    print(\"ECHO: \", command)\n",
    "print('Done!')"
   ]
  },
  {
   "attachments": {},
   "cell_type": "markdown",
   "metadata": {},
   "source": [
    "The loop condition is `True`, which is always true, so the loop runs repeatedly until it hits the `break` statement.\n",
    "\n",
    "Each time through, it prompts the user. If the user types 'quit', the `break` statement exits the loop. Otherwise the program echoes whatever the user types and goes back to the top of the loop."
   ]
  },
  {
   "attachments": {},
   "cell_type": "markdown",
   "metadata": {},
   "source": [
    "## Finishing iterations with `continue`\n",
    "\n",
    "Sometimes you are in an iteration of a loop and want to finish the current iteration and immediately jump to the next iteration. In that case you can use the `continue `statement to skip to the next iteration without finishing the body of the loop for the current iteration.\n",
    "\n",
    "Here is an example of a loop that copies its input until the user types “done”, but treats lines that start with the hash character as lines not to be printed (kind of like Python comments).\n"
   ]
  },
  {
   "cell_type": "code",
   "execution_count": 5,
   "metadata": {},
   "outputs": [
    {
     "name": "stdout",
     "output_type": "stream",
     "text": [
      "ECHO:  Hello\n",
      "ECHO:  Python\n",
      "Done!\n"
     ]
    }
   ],
   "source": [
    "command = ''\n",
    "while True:\n",
    "    command = input('>>> ')\n",
    "    if command[0] == '#':\n",
    "        continue\n",
    "    if command.lower() == 'quit':\n",
    "        break\n",
    "    print(\"ECHO: \", command)\n",
    "print('Done!')"
   ]
  },
  {
   "attachments": {},
   "cell_type": "markdown",
   "metadata": {},
   "source": [
    "All the lines are printed except the one that starts with the hash sign because when the` continue` is executed, it ends the current iteration and jumps back to the `while `statement to start the next iteration, thus skipping the `print` statement."
   ]
  },
  {
   "attachments": {},
   "cell_type": "markdown",
   "metadata": {},
   "source": [
    "## `for` statement\n",
    "\n",
    "Sometimes we want to loop through a *set* of things such as a list of words, the lines in a file, or a list of numbers. When we have a list of things to loop through, we can construct a *definite* loop using a *for* statement. We call the `while` statement an *indefinite* loop because it simply loops until some condition becomes `False`, whereas the `for` loop is looping through a known set of items so it runs through as many iterations as there are items in the set.\n",
    "\n",
    "The syntax of a `for` loop is similar to the `while` loop in that there is a `for` statement and a loop body:"
   ]
  },
  {
   "cell_type": "code",
   "execution_count": 7,
   "metadata": {},
   "outputs": [
    {
     "name": "stdout",
     "output_type": "stream",
     "text": [
      "Happy New Year: Joseph\n",
      "Happy New Year: Glenn\n",
      "Happy New Year: Sally\n",
      "Done!\n"
     ]
    }
   ],
   "source": [
    "friends = ['Joseph', 'Glenn', 'Sally'] \n",
    "for friend in friends:\n",
    "    print('Happy New Year:', friend)\n",
    "print('Done!')"
   ]
  },
  {
   "attachments": {},
   "cell_type": "markdown",
   "metadata": {},
   "source": [
    "In Python terms, the variable `friends` is a list of three strings and the `for` loop goes through the list and executes the body once for each of the three strings in the list resulting in this output:\n",
    "\n",
    "Translating this `for` loop to English is not as direct as the `while`, but if you think of friends as a *set*, it goes like this: “Run the statements in the body of the *`for`* loop once for each friend *`in`* the set named friends.”\n",
    "\n",
    "Looking at the `for` loop, *`for`* and *`in`* are reserved Python keywords, and `friend` and `friends` are variables. In particular, `friend` is the *iteration variable* for the for loop. The variable `friend` changes for each iteration of the loop and controls when the `for` loop completes. The *iteration variable* steps successively through the three strings stored in the `friends` variable.\n",
    "\n",
    "### Loop Patterns\n",
    "\n",
    "Often we use a `for` or `while` loop to go through a list of items or the contents of a file and we are looking for something such as the largest or smallest value of the data we scan through.\n",
    "\n",
    "These loops are generally constructed by:\n",
    "\n",
    "* Initializing one or more variables before the loop starts\n",
    "\n",
    "* Performing some computation on each item in the loop body, possibly changing the variables in the body of the loop\n",
    "\n",
    "* Looking at the resulting variables when the loop completes\n",
    "\n",
    "We will use a **list of numbers** to demonstrate the concepts and construction of these loop patterns.\n",
    "\n",
    "#### Counting and Summing Loops\n",
    "\n",
    "For example, to count the number of items in a list, we would write the following `for` loop:"
   ]
  },
  {
   "cell_type": "code",
   "execution_count": 8,
   "metadata": {},
   "outputs": [
    {
     "name": "stdout",
     "output_type": "stream",
     "text": [
      "Count:  6\n"
     ]
    }
   ],
   "source": [
    "count = 0\n",
    "for itervar in [3, 41, 12, 9, 74, 15]:\n",
    "    count += 1      # count = count + 1\n",
    "print('Count: ', count)"
   ]
  },
  {
   "attachments": {},
   "cell_type": "markdown",
   "metadata": {},
   "source": [
    "We set the variable `count` to zero before the loop starts, then we write a `for` loop to run through the list of numbers. Our *iteration* variable is named `itervar` and while we do not use `itervar` in the loop, it does control the loop and cause the loop body to be executed once for each of the values in the list.\n",
    "\n",
    "In the body of the loop, we add 1 to the current value of `count` for each of the values in the list. While the loop is executing, the value of `count` is the number of values we have seen “so far”.\n",
    "\n",
    "Once the loop completes, the value of `count` is the total number of items. The total number “falls in our lap” at the end of the loop. We construct the loop so that we have what we want when the loop finishes.\n",
    "\n",
    "Another similar loop that computes the sum of a set of numbers is as follows:"
   ]
  },
  {
   "cell_type": "code",
   "execution_count": 9,
   "metadata": {},
   "outputs": [
    {
     "name": "stdout",
     "output_type": "stream",
     "text": [
      "Total:  154\n"
     ]
    }
   ],
   "source": [
    "sum = 0\n",
    "for itervar in [3, 41, 12, 9, 74, 15]:\n",
    "    sum += itervar      # sum = sum + itervar\n",
    "print('Total: ', sum)"
   ]
  },
  {
   "attachments": {},
   "cell_type": "markdown",
   "metadata": {},
   "source": [
    "In this loop we do use the *iteration variable*. Instead of simply adding one to the `count` as in the previous loop, we add the actual number (3, 41, 12, etc.) to the running total during each loop iteration. If you think about the variable `sum`, it contains the “running total of the values so far”. So before the loop starts `sum` is zero because we have not yet seen any values, during the loop `sum` is the running total, and at the end of the loop `sum` is the overall total of all the values in the list.\n",
    "\n",
    "As the loop executes, `sum` accumulates the sum of the elements; a variable used this way is sometimes called an *accumulator*.\n",
    "\n",
    "Neither the counting loop nor the summing loop are particularly useful in practice because there are built-in functions *`len()`* and *`sum()`* that compute the number of items in a list and the total of the items in the list respectively.\n",
    "\n",
    "#### Maximum and Minimum Loops\n",
    "To find the largest value in a list or sequence, we construct the following loop:"
   ]
  },
  {
   "cell_type": "code",
   "execution_count": 12,
   "metadata": {},
   "outputs": [
    {
     "name": "stdout",
     "output_type": "stream",
     "text": [
      "Before: None\n",
      "Loop: itervar, largest\n",
      "Loop: 3 3\n",
      "Loop: 41 41\n",
      "Loop: 12 41\n",
      "Loop: 9 41\n",
      "Loop: 74 74\n",
      "Loop: 15 74\n",
      "Largest: 74\n"
     ]
    }
   ],
   "source": [
    "largest = None\n",
    "print('Before:', largest)\n",
    "print('Loop: itervar, largest')\n",
    "for itervar in [3, 41, 12, 9, 74, 15]:\n",
    "    if largest is None or itervar > largest :\n",
    "        largest = itervar\n",
    "    print('Loop:', itervar, largest)\n",
    "print('Largest:', largest)"
   ]
  },
  {
   "attachments": {},
   "cell_type": "markdown",
   "metadata": {},
   "source": [
    "The variable `largest` is best thought of as the “largest value we have seen so far”. Before the loop, we set `largest` to the constant `None`. `None` is a special constant value which we can store in a variable to mark the variable as “empty”.\n",
    "\n",
    "Before the loop starts, the largest value we have seen so far is `None` since we have not yet seen any values. While the loop is executing, if `largest` is `None` then we take the first value we see as the largest so far. You can see in the first iteration when the value of `itervar` is 3, since `largest` is `None`, we immediately set `largest` to be 3.\n",
    "\n",
    "After the first iteration, `largest` is no longer `None`, so the second part of the compound logical expression that checks `itervar > largest` triggers only when we see a value that is larger than the “largest so far”. When we see a new “even larger” value we take that new value for `largest`. You can see in the program output that `largest` progresses from 3 to 41 to 74.\n",
    "\n",
    "At the end of the loop, we have scanned all of the values and the variable `largest` now does contain the largest value in the list.\n",
    "\n",
    "To compute the smallest number, the code is very similar with one small change:"
   ]
  },
  {
   "cell_type": "code",
   "execution_count": 16,
   "metadata": {},
   "outputs": [
    {
     "name": "stdout",
     "output_type": "stream",
     "text": [
      "Before: None\n",
      "Loop: itervar, largest\n",
      "Loop: 3 3\n",
      "Loop: 41 3\n",
      "Loop: 12 3\n",
      "Loop: 9 3\n",
      "Loop: 74 3\n",
      "Loop: 15 3\n",
      "Smallest: 3\n"
     ]
    }
   ],
   "source": [
    "smallest = None\n",
    "print('Before:', smallest)\n",
    "print('Loop: itervar, largest')\n",
    "for itervar in [3, 41, 12, 9, 74, 15]:\n",
    "    if smallest is None or itervar < smallest:\n",
    "        smallest = itervar\n",
    "    print('Loop:', itervar, smallest)\n",
    "print('Smallest:', smallest)"
   ]
  },
  {
   "attachments": {},
   "cell_type": "markdown",
   "metadata": {},
   "source": [
    "Again, `smallest` is the “smallest so far” before, during, and after the loop executes. When the loop has completed, `smallest` contains the minimum value in the list.\n",
    "\n",
    "Again as in counting and summing, the built-in functions *`max()`* and *`min()`* make writing these exact loops unnecessary.\n"
   ]
  },
  {
   "attachments": {},
   "cell_type": "markdown",
   "metadata": {},
   "source": [
    "### `range()` : Repeating a Loop for Specific Number of Times\n",
    "\n",
    "Let's say we are sending a message to a user. If that message cannot be delivered, we want to retry 3 times. For simplicity, let's imagine\n",
    "\n",
    "*print(\"Sending a message\")*\n",
    "\n",
    "is equivalent to sending a message. To repeat a message 3 times we can use a `for` loop. We have a built-in function called `range()`. We can specify the number of times we want to repeat the loop in this function as an argument."
   ]
  },
  {
   "cell_type": "code",
   "execution_count": 19,
   "metadata": {},
   "outputs": [
    {
     "name": "stdout",
     "output_type": "stream",
     "text": [
      "Attempt 0: Sending a message\n",
      "Attempt 1: Sending a message\n",
      "Attempt 2: Sending a message\n"
     ]
    }
   ],
   "source": [
    "for number in range(3):\n",
    "    print(f\"Attempt {number}: Sending a message\")"
   ]
  },
  {
   "attachments": {},
   "cell_type": "markdown",
   "metadata": {},
   "source": [
    "Variable *number* is a variable of type integer because `range()` function produces numbers. \n",
    "\n",
    "This `for` is executed 3 times. In each iteration `number` will have a different value, initially it will be 0, in second iteration it will be 1 and lastly it will be 2. In other words `number` will be equal to the value provided by `range()` function in every iteration.\n",
    "\n",
    "We can add 1 in `number` to make our code more meaningful."
   ]
  },
  {
   "cell_type": "code",
   "execution_count": 2,
   "metadata": {},
   "outputs": [
    {
     "name": "stdout",
     "output_type": "stream",
     "text": [
      "Attempt 1: Sending a message\n",
      "Attempt 2: Sending a message\n",
      "Attempt 3: Sending a message\n"
     ]
    }
   ],
   "source": [
    "for number in range(3):\n",
    "    print(f\"Attempt {number + 1}: Sending a message\")"
   ]
  },
  {
   "attachments": {},
   "cell_type": "markdown",
   "metadata": {},
   "source": [
    "We know rangee function start generating numbers for 0 to all the way upto the number defined as an argument (3 in our case), but it does not include the number 3. We can also provide another argument in `range()` function as a starting point.\n",
    "\n",
    "*range(start, end)* # end is not included"
   ]
  },
  {
   "cell_type": "code",
   "execution_count": 3,
   "metadata": {},
   "outputs": [
    {
     "name": "stdout",
     "output_type": "stream",
     "text": [
      "Attempt 1: Sending a message\n",
      "Attempt 2: Sending a message\n",
      "Attempt 3: Sending a message\n"
     ]
    }
   ],
   "source": [
    "for number in range(1, 4):\n",
    "    print(f\"Attempt {number}: Sending a message\")"
   ]
  },
  {
   "attachments": {},
   "cell_type": "markdown",
   "metadata": {},
   "source": [
    "We can also pass a third argument as a step.\n",
    "\n",
    "*range(start, end, step)*"
   ]
  },
  {
   "cell_type": "code",
   "execution_count": 4,
   "metadata": {},
   "outputs": [
    {
     "name": "stdout",
     "output_type": "stream",
     "text": [
      "1\n",
      "3\n",
      "5\n",
      "7\n",
      "9\n"
     ]
    }
   ],
   "source": [
    "for number in range(1,10, 2):\n",
    "    print(number)"
   ]
  },
  {
   "attachments": {},
   "cell_type": "markdown",
   "metadata": {},
   "source": [
    "## `for-else` Loop\n",
    "Continuing with the example from the last section, let's imagine the scenerio where after the first attempt we can successfully send the message. In that case we want to jump out of the loop, because we don't need to repeat the task of sending a message 2 more time. \n",
    "\n",
    "let's simulate a scenerio where we can successfully send a message. \n",
    "\n"
   ]
  },
  {
   "cell_type": "code",
   "execution_count": 5,
   "metadata": {},
   "outputs": [
    {
     "name": "stdout",
     "output_type": "stream",
     "text": [
      "Attempt 1.\n",
      "Attempt 2..\n",
      "Attempt 3...\n"
     ]
    }
   ],
   "source": [
    "successful  = True\n",
    "for number in range(1,4):\n",
    "    print(f\"Attempt {number}{number * '.'}\")\n",
    "    if successful:\n",
    "        print(\"Successful\")\n",
    "        break"
   ]
  },
  {
   "attachments": {},
   "cell_type": "markdown",
   "metadata": {},
   "source": [
    "We define a variable `successful` and set it to `True`. After the *print* statement we have an *`if`* statement that checks whether the message was sent successfully or not, if **yes** we need to break out of the loop. \n",
    "\n",
    "let's take this code to next level, imagine we failed to send a message after 3 attempts. Perhaps we need to send a different message to the user like \"We tried to send a message but failed.\"\n",
    "\n",
    "let's implement it using `for-else` loop."
   ]
  },
  {
   "cell_type": "code",
   "execution_count": 7,
   "metadata": {},
   "outputs": [
    {
     "name": "stdout",
     "output_type": "stream",
     "text": [
      "Attempt 1.\n",
      "Attempt 2..\n",
      "Attempt 3...\n",
      "Failed to send a message\n"
     ]
    }
   ],
   "source": [
    "successful  = False\n",
    "for number in range(1,4):\n",
    "    print(f\"Attempt {number}{number * '.'}\")\n",
    "    if successful:\n",
    "        print(\"Successful\")\n",
    "        break\n",
    "else:\n",
    "    print(\"Failed to send a message\")"
   ]
  },
  {
   "attachments": {},
   "cell_type": "markdown",
   "metadata": {},
   "source": [
    "To simulate the failure we set the `successful` variable to `False` at the end of `for` loop we added an `else` statement and printed the failure message. This is called `for-else` statement.\n",
    "\n",
    "The `else` statement will only be executed if `for` loop does not break. In other words what we put under `else` statement will only be executed if `for` loop completes without an early termination. If we never break out of the `for` loop, then the `else` statement will be executed.\n",
    "\n",
    "In contrast, if we change `successful` to `True`. The `for` loop will be terminated  with `break` statement, what we have in the `else` statement will not be executed.\n",
    "\n",
    "Take a look"
   ]
  },
  {
   "cell_type": "code",
   "execution_count": 10,
   "metadata": {},
   "outputs": [
    {
     "name": "stdout",
     "output_type": "stream",
     "text": [
      "Attempt 1.\n",
      "Successful\n"
     ]
    }
   ],
   "source": [
    "successful  = True\n",
    "for number in range(1,4):\n",
    "    print(f\"Attempt {number}{number * '.'}\")\n",
    "    if successful:\n",
    "        print(\"Successful\")\n",
    "        break\n",
    "else:\n",
    "    print(\"Failed to send a message\")"
   ]
  },
  {
   "attachments": {},
   "cell_type": "markdown",
   "metadata": {},
   "source": [
    "## Nested Loops\n",
    "It means we can put one loop inside of another loop, with this we get some interesting results.\n"
   ]
  },
  {
   "cell_type": "code",
   "execution_count": 17,
   "metadata": {},
   "outputs": [
    {
     "name": "stdout",
     "output_type": "stream",
     "text": [
      "(0,0)\n",
      "(0,1)\n",
      "(0,2)\n",
      "(1,0)\n",
      "(1,1)\n",
      "(1,2)\n"
     ]
    }
   ],
   "source": [
    "for x in range(2):\n",
    "    for y in range(3):\n",
    "        print(f\"({x},{y})\")"
   ]
  },
  {
   "attachments": {},
   "cell_type": "markdown",
   "metadata": {},
   "source": [
    "We started with the `for` loop (outer loop). Inside the `for` loop there is another `for` loop (inner loop). Inside the inner `for` loop we are printing the coordinates that consist of *iteration veriable* of inner and outer loop.\n",
    "\n",
    "Let's try to understand how Python interpreter executes this code. \n",
    "\n",
    "We have two loops i.e. inner and outer loop. In the first iteration of outer loop `x` is 0. then we get to the inner loop which is a child of outer loop because it is indented. What we have inside the inner loop will be executed three times in the each iteration of outer loop."
   ]
  }
 ],
 "metadata": {
  "kernelspec": {
   "display_name": "base",
   "language": "python",
   "name": "python3"
  },
  "language_info": {
   "codemirror_mode": {
    "name": "ipython",
    "version": 3
   },
   "file_extension": ".py",
   "mimetype": "text/x-python",
   "name": "python",
   "nbconvert_exporter": "python",
   "pygments_lexer": "ipython3",
   "version": "3.9.13"
  },
  "orig_nbformat": 4
 },
 "nbformat": 4,
 "nbformat_minor": 2
}
