{
 "cells": [
  {
   "attachments": {},
   "cell_type": "markdown",
   "metadata": {},
   "source": [
    "# Conditional Execution"
   ]
  },
  {
   "attachments": {},
   "cell_type": "markdown",
   "metadata": {},
   "source": [
    "## Boolean Expressions\n",
    "A *boolean expression* is an expression that is either true or false. The following examples use the operator `==`, which compares two operands and produces `True` if they are equal and `False` otherwise:"
   ]
  },
  {
   "cell_type": "code",
   "execution_count": 3,
   "metadata": {},
   "outputs": [
    {
     "name": "stdout",
     "output_type": "stream",
     "text": [
      "True\n",
      "False\n"
     ]
    }
   ],
   "source": [
    "print(5 == 5)\n",
    "print(5 == 6)\n"
   ]
  },
  {
   "attachments": {},
   "cell_type": "markdown",
   "metadata": {},
   "source": [
    "`True` and `False` are special values that belong to the class `bool`; they are not strings:"
   ]
  },
  {
   "cell_type": "code",
   "execution_count": 5,
   "metadata": {},
   "outputs": [
    {
     "name": "stdout",
     "output_type": "stream",
     "text": [
      "<class 'bool'>\n",
      "<class 'bool'>\n"
     ]
    }
   ],
   "source": [
    "print(type(True))\n",
    "print(type(False))"
   ]
  },
  {
   "attachments": {},
   "cell_type": "markdown",
   "metadata": {},
   "source": [
    "## Comparison Operators\n",
    "The `==` operator is one of the comparison operators; the others are:\n",
    "\n",
    "* x != y               # x is not equal to y\n",
    "* x > y                # x is greater than y\n",
    "* x < y                # x is less than y\n",
    "* x >= y               # x is greater than or equal to y\n",
    "* x <= y               # x is less than or equal to y\n",
    "* x is y               # x is the same as y\n",
    "* x is not y           # x is not the same as y"
   ]
  },
  {
   "attachments": {},
   "cell_type": "markdown",
   "metadata": {},
   "source": [
    "All these operators also work for strings. Let's check if \"carl\" is smaller than \"chris\"."
   ]
  },
  {
   "cell_type": "code",
   "execution_count": 6,
   "metadata": {},
   "outputs": [
    {
     "name": "stdout",
     "output_type": "stream",
     "text": [
      "carl < chris :  True\n"
     ]
    }
   ],
   "source": [
    "print('carl < chris : ', 'carl' < 'chris')"
   ]
  },
  {
   "attachments": {},
   "cell_type": "markdown",
   "metadata": {},
   "source": [
    " According to the alphatic order, carl comes before chris, so the result is `True`."
   ]
  },
  {
   "attachments": {},
   "cell_type": "markdown",
   "metadata": {},
   "source": [
    "Although these operations are probably familiar to you, the Python symbols are different from the mathematical symbols for the same operations. A common error is to use a single equal sign (`=`) instead of a double equal sign (`==`). Remember that `=` is an assignment operator and `==` is a comparison operator. There is no such thing as `=<` or `=>`.\n",
    "\n",
    "### Chaining Comparison Operators\n",
    "Checking more than two conditions is very common in Programming Languages. The chaining of operators can be written as follows:"
   ]
  },
  {
   "cell_type": "code",
   "execution_count": 22,
   "metadata": {},
   "outputs": [
    {
     "name": "stdout",
     "output_type": "stream",
     "text": [
      "True\n",
      "True\n"
     ]
    }
   ],
   "source": [
    "print ( 10 < 15 < 20)\n",
    "\n",
    "x = 1\n",
    "print(0< x < 10 )"
   ]
  },
  {
   "attachments": {},
   "cell_type": "markdown",
   "metadata": {},
   "source": [
    "## Logical Operators\n",
    "There are three logical operators: `and`, `or`, and `not`. The semantics (meaning) of these operators is similar to their meaning in English. For example,\n",
    "\n",
    "`x > 0 and x < 10`\n",
    "\n",
    "is true only if `x` is *greater than* 0 and *less than* 10.\n",
    "\n",
    "`n%2 == 0 or n%3 == 0` is true if either of the conditions is true, that is, if the number is divisible by 2 or 3.\n",
    "\n",
    "Finally, the `not` operator negates a boolean expression, so `not (x > y)` is true if` x > y` is false; that is, if `x` is less than or equal to `y`.\n",
    "\n",
    "Strictly speaking, the operands of the logical operators should be boolean expressions, but Python is not very strict. Any nonzero number is interpreted as “true.”\n",
    "\n"
   ]
  },
  {
   "cell_type": "code",
   "execution_count": 1,
   "metadata": {},
   "outputs": [
    {
     "data": {
      "text/plain": [
       "True"
      ]
     },
     "execution_count": 1,
     "metadata": {},
     "output_type": "execute_result"
    }
   ],
   "source": [
    "17 and True"
   ]
  },
  {
   "attachments": {},
   "cell_type": "markdown",
   "metadata": {},
   "source": [
    "### Short-Circuit Evaluation of Logical Expressions\n",
    "\n",
    "When Python is processing a logical expression such as `x >= 2 and (x/y) > 2`, it evaluates the expression from **left to right**. Because of the definition of `and`, if `x` is less than 2, the expression `x >= 2` is False and so the whole expression is `False` regardless of whether `(x/y) > 2` evaluates to `True` or `False`.\n",
    "\n",
    "When Python detects that there is nothing to be gained by evaluating the rest of a logical expression, it stops its evaluation and does not do the computations in the rest of the logical expression. When the evaluation of a logical expression stops because the overall value is already known, it is called *short-circuiting* the evaluation."
   ]
  },
  {
   "attachments": {},
   "cell_type": "markdown",
   "metadata": {},
   "source": [
    "## Conditional Statement\n",
    "We use conditional statements for decision making. In order to write useful programs, we almost always need the ability to check conditions and change the behavior of the program accordingly. Conditional statements give us this ability. The simplest form is the `if` statement:"
   ]
  },
  {
   "cell_type": "code",
   "execution_count": 9,
   "metadata": {},
   "outputs": [
    {
     "name": "stdout",
     "output_type": "stream",
     "text": [
      "x :  12\n",
      "x is positive\n"
     ]
    }
   ],
   "source": [
    "x = int(input(\"Enter a number : \"))\n",
    "print('x : ',x)\n",
    "if x > 0 :\n",
    "   print('x is positive')"
   ]
  },
  {
   "attachments": {
    "image.png": {
     "image/png": "[encoded data removed]"
    }
   },
   "cell_type": "markdown",
   "metadata": {},
   "source": [
    "The boolean expression after the `if` statement is called the condition. We end the `if` statement with a colon character (`:`) and the line(s) after the `if` statement are indented. Statements like this are called *compound statements* because they stretch across more than one line.\n",
    "\n",
    "**if Logic:** If the logical condition is true, then the indented statement gets executed. If the logical condition is false, the indented statement is skipped.\n",
    "\n",
    "![image.png](attachment:image.png)\n",
    "\n",
    "There is no limit on the number of statements that can appear in the body, but there must be at least one. Occasionally, it is useful to have a body with no statements (usually as a place holder for code you haven’t written yet). In that case, you can use the `pass` statement, which does nothing.\n"
   ]
  },
  {
   "cell_type": "code",
   "execution_count": 10,
   "metadata": {},
   "outputs": [
    {
     "name": "stdout",
     "output_type": "stream",
     "text": [
      "x :  14\n"
     ]
    }
   ],
   "source": [
    "x = int(input(\"Enter a number : \"))\n",
    "print('x : ',x)\n",
    "if x > 0 :\n",
    "    pass          # need to handle negative values!\n"
   ]
  },
  {
   "attachments": {},
   "cell_type": "markdown",
   "metadata": {},
   "source": [
    "### Alternate Conditional\n",
    "A second form of the `if` statement is *alternative execution*, in which there are two possibilities and the condition determines which one gets executed. The syntax looks like this:\n"
   ]
  },
  {
   "cell_type": "code",
   "execution_count": 11,
   "metadata": {},
   "outputs": [
    {
     "name": "stdout",
     "output_type": "stream",
     "text": [
      "x :  11\n",
      "x is odd\n"
     ]
    }
   ],
   "source": [
    "x = int(input(\"Enter a number : \"))\n",
    "print('x : ',x)\n",
    "\n",
    "if x%2 == 0 :\n",
    "    print('x is even')\n",
    "else :\n",
    "    print('x is odd')"
   ]
  },
  {
   "attachments": {
    "image.png": {
     "image/png": "[encoded data removed]"
    }
   },
   "cell_type": "markdown",
   "metadata": {},
   "source": [
    "If the remainder when `x` is divided by 2 is 0, then we know that `x` is even, and the program displays a message to that effect. If the condition is false, the second set of statements is executed.\n",
    "\n",
    "![image.png](attachment:image.png)\n",
    "\n",
    "Since the condition must either be true or false, exactly one of the alternatives will be executed. The alternatives are called branches, because they are branches in the flow of execution."
   ]
  },
  {
   "attachments": {},
   "cell_type": "markdown",
   "metadata": {},
   "source": [
    "### Chained Conditionals\n",
    "Sometimes there are more than two possibilities and we need more than two branches. One way to express a computation like that is a chained conditional:"
   ]
  },
  {
   "cell_type": "code",
   "execution_count": 13,
   "metadata": {},
   "outputs": [
    {
     "name": "stdout",
     "output_type": "stream",
     "text": [
      "x :  12\n",
      "y :  123\n",
      "x is less than y\n"
     ]
    }
   ],
   "source": [
    "x = int(input(\"x : \"))\n",
    "print('x : ',x)\n",
    "\n",
    "y = int(input(\"y : \"))\n",
    "print('y : ',y)\n",
    "\n",
    "if x < y:\n",
    "    print('x is less than y')\n",
    "elif x > y:\n",
    "    print('x is greater than y')\n",
    "else:\n",
    "    print('x and y are equal')"
   ]
  },
  {
   "attachments": {
    "image.png": {
     "image/png": "[encoded data removed]"
    }
   },
   "cell_type": "markdown",
   "metadata": {},
   "source": [
    "`elif` is an abbreviation of “else if.” Again, exactly one branch will be executed.\n",
    "\n",
    "![image.png](attachment:image.png)\n",
    "\n",
    "There is no limit on the number of `elif` statements. If there is an `else` clause, it has to be at the end, but there doesn’t have to be one."
   ]
  },
  {
   "cell_type": "code",
   "execution_count": 15,
   "metadata": {},
   "outputs": [
    {
     "name": "stdout",
     "output_type": "stream",
     "text": [
      "choice :  b\n",
      "Good guess\n"
     ]
    }
   ],
   "source": [
    "choice = input(\"Enter 'a', 'b', or 'c' : \")\n",
    "print('choice : ',choice)\n",
    "if choice == 'a':\n",
    "    print('Bad guess')\n",
    "elif choice == 'b':\n",
    "    print('Good guess')\n",
    "elif choice == 'c':\n",
    "    print('Close, but not correct')"
   ]
  },
  {
   "attachments": {},
   "cell_type": "markdown",
   "metadata": {},
   "source": [
    "Each condition is checked in order. If the first is false, the next is checked, and so on. If one of them is true, the corresponding branch executes, and the statement ends. **Even if more than one condition is true, only the first true branch executes.**"
   ]
  },
  {
   "attachments": {},
   "cell_type": "markdown",
   "metadata": {},
   "source": [
    "### Nested conditionals\n",
    "One conditional can also be nested within another. We could have written the three-branch example like this:\n"
   ]
  },
  {
   "cell_type": "code",
   "execution_count": 16,
   "metadata": {},
   "outputs": [
    {
     "name": "stdout",
     "output_type": "stream",
     "text": [
      "x :  12\n",
      "y :  32\n",
      "x is less than y\n"
     ]
    }
   ],
   "source": [
    "x = int(input(\"x : \"))\n",
    "print('x : ',x)\n",
    "\n",
    "y = int(input(\"y : \"))\n",
    "print('y : ',y)\n",
    "\n",
    "\n",
    "if x == y:\n",
    "    print('x and y are equal')\n",
    "else:\n",
    "    if x < y:\n",
    "        print('x is less than y')\n",
    "    else:\n",
    "        print('x is greater than y')"
   ]
  },
  {
   "attachments": {
    "image.png": {
     "image/png": "[encoded data removed]"
    }
   },
   "cell_type": "markdown",
   "metadata": {},
   "source": [
    "The outer conditional contains two branches. The first branch contains a simple statement. The second branch contains another `if` statement, which has two branches of its own. Those two branches are both simple statements, although they could have been conditional statements as well.\n",
    "\n",
    "![image.png](attachment:image.png)\n",
    "\n",
    "Although the indentation of the statements makes the structure apparent, nested conditionals become difficult to read very quickly. In general, it is a good idea to avoid them when you can.\n",
    "\n",
    "Logical operators often provide a way to simplify nested conditional statements. For example, we can rewrite the following code using a single conditional:"
   ]
  },
  {
   "cell_type": "code",
   "execution_count": 17,
   "metadata": {},
   "outputs": [
    {
     "name": "stdout",
     "output_type": "stream",
     "text": [
      "x :  1\n",
      "x is a positive single-digit number.\n"
     ]
    }
   ],
   "source": [
    "x = int(input(\"x : \"))\n",
    "print('x : ',x)\n",
    "\n",
    "if x > 0:\n",
    "    if x < 10:\n",
    "        print('x is a positive single-digit number.')"
   ]
  },
  {
   "attachments": {},
   "cell_type": "markdown",
   "metadata": {},
   "source": [
    "The `print` statement is executed only if we make it past both conditionals, so we can get the same effect with the `and` operator:"
   ]
  },
  {
   "cell_type": "code",
   "execution_count": 18,
   "metadata": {},
   "outputs": [
    {
     "name": "stdout",
     "output_type": "stream",
     "text": [
      "x :  20\n"
     ]
    }
   ],
   "source": [
    "x = int(input(\"x : \"))\n",
    "print('x : ',x)\n",
    "\n",
    "if 0 < x and x < 10:\n",
    "    print('x is a positive single-digit number.')"
   ]
  },
  {
   "attachments": {},
   "cell_type": "markdown",
   "metadata": {},
   "source": [
    "Or we can also chain the comparison operators"
   ]
  },
  {
   "cell_type": "code",
   "execution_count": 2,
   "metadata": {},
   "outputs": [
    {
     "name": "stdout",
     "output_type": "stream",
     "text": [
      "x :  5\n",
      "x is a positive single-digit number.\n"
     ]
    }
   ],
   "source": [
    "x = int(input(\"x : \"))\n",
    "print('x : ',x)\n",
    "\n",
    "if 0 < x  < 10:\n",
    "    print('x is a positive single-digit number.')"
   ]
  },
  {
   "attachments": {},
   "cell_type": "markdown",
   "metadata": {},
   "source": [
    "### Ternary Operator\n",
    "We use the ternary operator when we want to store a value in variable depending upon the condition.\n",
    "\n",
    "suppose we want to check the marriage eligibility of a person depending upon age. We write the code as "
   ]
  },
  {
   "cell_type": "code",
   "execution_count": 23,
   "metadata": {},
   "outputs": [
    {
     "name": "stdout",
     "output_type": "stream",
     "text": [
      "Eligible for Marriage\n"
     ]
    }
   ],
   "source": [
    "age = 20\n",
    "if age >= 18:\n",
    "    print('Eligible for Marriage')\n",
    "else :\n",
    "    print('Not Eligible for Marriage')"
   ]
  },
  {
   "attachments": {},
   "cell_type": "markdown",
   "metadata": {},
   "source": [
    "There is a cleaner way to write the above code using ternary operator."
   ]
  },
  {
   "cell_type": "code",
   "execution_count": 24,
   "metadata": {},
   "outputs": [
    {
     "name": "stdout",
     "output_type": "stream",
     "text": [
      "Eligible for Marriage\n"
     ]
    }
   ],
   "source": [
    "age = 20\n",
    "message = 'Eligible for Marriage' if age >= 18 else 'Not Eligible for Marriage'\n",
    "print(message)"
   ]
  },
  {
   "attachments": {},
   "cell_type": "markdown",
   "metadata": {},
   "source": [
    "## Handling Exceptions using try and except\n",
    "\n",
    "When writing a program many things can go wrong. Usually these errors happens because of programmers mistake, or bad data we get from the user, or resources not being available. It is the programmer's job to prevent their application from crashing in this kind of situation.\n",
    "\n",
    "*Exception* is a kind of error that terminates the execution of a program, more specifically a line or more than one line threw an exception that caused the program to terminate.\n",
    "\n",
    "Earlier we saw a code segment where we used the `input` and `int` functions to read and parse an integer number entered by the user. Let's say we asked for the user age using `input` function and parsed it as `int`. If we enter the non-numeric value like 'a', our program crashes with the Exception of type `ValueError`. "
   ]
  },
  {
   "cell_type": "code",
   "execution_count": 1,
   "metadata": {},
   "outputs": [
    {
     "ename": "ValueError",
     "evalue": "invalid literal for int() with base 10: 'a'",
     "output_type": "error",
     "traceback": [
      "\u001b[1;31m---------------------------------------------------------------------------\u001b[0m",
      "\u001b[1;31mValueError\u001b[0m                                Traceback (most recent call last)",
      "\u001b[1;32m~\\AppData\\Local\\Temp\\ipykernel_13952\\2751051998.py\u001b[0m in \u001b[0;36m<module>\u001b[1;34m\u001b[0m\n\u001b[1;32m----> 1\u001b[1;33m \u001b[0mage\u001b[0m \u001b[1;33m=\u001b[0m \u001b[0mint\u001b[0m\u001b[1;33m(\u001b[0m\u001b[0minput\u001b[0m\u001b[1;33m(\u001b[0m\u001b[1;34m'Age: '\u001b[0m\u001b[1;33m)\u001b[0m\u001b[1;33m)\u001b[0m\u001b[1;33m\u001b[0m\u001b[1;33m\u001b[0m\u001b[0m\n\u001b[0m\u001b[0;32m      2\u001b[0m \u001b[0mprint\u001b[0m\u001b[1;33m(\u001b[0m\u001b[0mage\u001b[0m\u001b[1;33m)\u001b[0m\u001b[1;33m\u001b[0m\u001b[1;33m\u001b[0m\u001b[0m\n\u001b[0;32m      3\u001b[0m \u001b[1;31m# if age >= 18:\u001b[0m\u001b[1;33m\u001b[0m\u001b[1;33m\u001b[0m\u001b[0m\n\u001b[0;32m      4\u001b[0m \u001b[1;31m#     print('Eligible for Marriage')\u001b[0m\u001b[1;33m\u001b[0m\u001b[1;33m\u001b[0m\u001b[0m\n\u001b[0;32m      5\u001b[0m \u001b[1;31m# else :\u001b[0m\u001b[1;33m\u001b[0m\u001b[1;33m\u001b[0m\u001b[0m\n",
      "\u001b[1;31mValueError\u001b[0m: invalid literal for int() with base 10: 'a'"
     ]
    }
   ],
   "source": [
    "age = int(input('Age: '))\n",
    "print(age)\n"
   ]
  },
  {
   "attachments": {},
   "cell_type": "markdown",
   "metadata": {},
   "source": [
    "To handle the `ValueError` exception here, \n",
    "* We need to put the statement that is causing the exception in `try` block. \n",
    "* After `try` we need to add the `except` clause. What is the type of exception we get if the user enter the non-numeric value? i.e. `ValueError` exception.\n",
    "* Then we print the friendly error message"
   ]
  },
  {
   "cell_type": "code",
   "execution_count": 7,
   "metadata": {},
   "outputs": [
    {
     "name": "stdout",
     "output_type": "stream",
     "text": [
      "You didn't enter the valid age.\n",
      "12\n"
     ]
    }
   ],
   "source": [
    "try: \n",
    "    age = int(input('Age: '))\n",
    "    print(age)\n",
    "except ValueError: \n",
    "    print(\"You didn't enter the valid age.\" )\n",
    "\n"
   ]
  },
  {
   "attachments": {},
   "cell_type": "markdown",
   "metadata": {},
   "source": [
    "When python sees the `try` block, it will execute every statement in this block, if any of these statements throws an exception, the code in the `except` clause will be executed. If you do not have any exceptions the code in `except` clause will not execute. \n",
    "\n",
    "To validate run the above program with both numeric and non-numeric values.\n",
    "\n",
    "If you don't handle exceptions properly, your program will crash. In other words if we add another statement after `except` clause (code below), it will be executed whether an exception is thrown or not because we handled the exception using `try` block."
   ]
  },
  {
   "cell_type": "code",
   "execution_count": 8,
   "metadata": {},
   "outputs": [
    {
     "name": "stdout",
     "output_type": "stream",
     "text": [
      "You didn't enter the valid age.\n",
      "Execution Continues\n"
     ]
    }
   ],
   "source": [
    "try: \n",
    "    age = int(input('Age: '))\n",
    "    print(age)\n",
    "except ValueError: \n",
    "    print(\"You didn't enter the valid age.\" )\n",
    "print('Execution Continues')"
   ]
  },
  {
   "attachments": {},
   "cell_type": "markdown",
   "metadata": {},
   "source": [
    "We also have optional `else` clause. What we put inside the `else` clause block will only get executed if no exception is thrown in the code that is in `try` block."
   ]
  },
  {
   "cell_type": "code",
   "execution_count": 9,
   "metadata": {},
   "outputs": [
    {
     "name": "stdout",
     "output_type": "stream",
     "text": [
      "12\n",
      "No exceptions were thrown\n",
      "Execution Continues\n"
     ]
    }
   ],
   "source": [
    "try: \n",
    "    age = int(input('Age: '))\n",
    "    print(age)\n",
    "except ValueError: \n",
    "    print(\"You didn't enter the valid age.\" )\n",
    "else:\n",
    "    print(\"No exceptions were thrown\")\n",
    "print('Execution Continues')"
   ]
  },
  {
   "attachments": {},
   "cell_type": "markdown",
   "metadata": {},
   "source": [
    "When handling exceptions, in `except` clause we can optionally define a variable that will include the details about the exception (mostly the error message and sometimes additional arguments). To do that"
   ]
  },
  {
   "cell_type": "code",
   "execution_count": 10,
   "metadata": {},
   "outputs": [
    {
     "name": "stdout",
     "output_type": "stream",
     "text": [
      "You didn't enter the valid age.\n",
      "invalid literal for int() with base 10: 'a'\n",
      "<class 'ValueError'>\n",
      "Execution Continues\n"
     ]
    }
   ],
   "source": [
    "try: \n",
    "    age = int(input('Age: '))\n",
    "    print(age)\n",
    "except ValueError as ex: \n",
    "    print(\"You didn't enter the valid age.\" )\n",
    "    print(ex)\n",
    "    print(type(ex))\n",
    "else:\n",
    "    print(\"No exceptions were thrown\")\n",
    "print('Execution Continues')"
   ]
  },
  {
   "cell_type": "markdown",
   "metadata": {},
   "source": []
  }
 ],
 "metadata": {
  "kernelspec": {
   "display_name": "base",
   "language": "python",
   "name": "python3"
  },
  "language_info": {
   "codemirror_mode": {
    "name": "ipython",
    "version": 3
   },
   "file_extension": ".py",
   "mimetype": "text/x-python",
   "name": "python",
   "nbconvert_exporter": "python",
   "pygments_lexer": "ipython3",
   "version": "3.9.13"
  },
  "orig_nbformat": 4
 },
 "nbformat": 4,
 "nbformat_minor": 2
}
